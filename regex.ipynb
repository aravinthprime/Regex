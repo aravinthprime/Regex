{
  "nbformat": 4,
  "nbformat_minor": 0,
  "metadata": {
    "colab": {
      "name": "regex.ipynb",
      "provenance": []
    },
    "kernelspec": {
      "name": "python3",
      "display_name": "Python 3"
    },
    "language_info": {
      "name": "python"
    }
  },
  "cells": [
    {
      "cell_type": "code",
      "execution_count": null,
      "metadata": {
        "id": "HRUIZpbi3DPq"
      },
      "outputs": [],
      "source": []
    },
    {
      "cell_type": "markdown",
      "metadata": {
        "id": "N5nmkpaN3nS3"
      },
      "source": [
        "# <center> RegEx in Python</center>\n",
        "\n",
        "![](images/memes/meme1.jpg)\n",
        "\n",
        "\n",
        "> ### *A regular expression is a sequence of characters that define a search pattern.*"
      ]
    },
    {
      "cell_type": "code",
      "execution_count": null,
      "metadata": {
        "id": "n_pOfgsh3nS6",
        "outputId": "cbeac05d-12cd-4ef6-c8e3-6221564fcf62"
      },
      "outputs": [
        {
          "name": "stdout",
          "output_type": "stream",
          "text": [
            "Final Position: ( 2 ,  3 )\n"
          ]
        }
      ],
      "source": [
        "def finalPosition(move):\n",
        "\n",
        "        l = len(move)\n",
        "        countUp, countDown = 0, 0\n",
        "        countLeft, countRight = 0, 0\n",
        "\n",
        "\n",
        "        for i in range(l):\n",
        "\n",
        "\n",
        "                if (move[i] == 'U'):\n",
        "                        countUp += 1\n",
        "\n",
        "                elif(move[i] == 'D'):\n",
        "                        countDown += 1\n",
        "\n",
        "                elif(move[i] == 'L'):\n",
        "                        countLeft += 1\n",
        "\n",
        "                elif(move[i] == 'R'):\n",
        "                        countRight += 1\n",
        "\n",
        "        \n",
        "        print(\"Final Position: (\", (countRight - countLeft),\n",
        "                \", \", (countUp - countDown), \")\")\n",
        "\n",
        "\n",
        "move = \"UDDLLRUUUDUURUDDUULLDRRRR\"\n",
        "finalPosition(move)"
      ]
    },
    {
      "cell_type": "code",
      "execution_count": null,
      "metadata": {
        "id": "1v6xytKm3nS8",
        "outputId": "a6c3297b-5720-47b3-b06d-9abc08b7b96d"
      },
      "outputs": [
        {
          "name": "stdout",
          "output_type": "stream",
          "text": [
            "hi\n",
            "<class 'float'>\n",
            "hi\n",
            "<class 'float'>\n",
            "hi\n",
            "<class 'float'>\n"
          ]
        }
      ],
      "source": [
        "l=\"www\"\n",
        "for i in range(len(l)):\n",
        "    print(\"hi\")\n",
        "    print(type(2e-2))"
      ]
    },
    {
      "cell_type": "markdown",
      "metadata": {
        "id": "1wxou85Y3nS9"
      },
      "source": [
        "## 1. What exactly is a Regular Expression?\n",
        "\n",
        "A regular expression, often called a pattern, is **an expression used to specify a set of strings** required for a particular purpose. \n",
        "\n",
        "- A simple way to specify a finite set of strings is to list its elements or members. <br>For example `{file, file1, file2}`. \n",
        "    \n",
        "\n",
        "- However, there are often more concise ways to specify the desired set of strings. <br>For example, the set `{file, file1, file2}` can be specified by the pattern `file(1|2)?`. <br>We say that this pattern matches each of the three strings. [Wanna check?](https://regexr.com/48om5)\n",
        "\n",
        "> In most formalisms, if there exists at least one regular expression that matches a particular set then there exists an infinite number of other regular expressions that also match it, i.e. **the specification is not unique**.<br>\n",
        "For example, the string set `{file, file1, file2}` can also be specified by the pattern `file\\d?`.\n",
        "\n"
      ]
    },
    {
      "cell_type": "markdown",
      "metadata": {
        "id": "KVOIvpIj3nS-"
      },
      "source": [
        "\n",
        "## 2. The math of Regular Expressions\n",
        "\n",
        "- The concept of **Regular Expressions** originated from **[Regular Languages](https://en.wikipedia.org/wiki/Regular_language)**. \n",
        "\n",
        "- **Regular Expressions** describe **Regular Languages** in **[Formal Language Theory](https://en.wikipedia.org/wiki/Formal_language)**.\n",
        "\n",
        "> ***Formal Language Theory***: In mathematics, computer science, and linguistics, a **formal language** consists of words whose letters are taken from an alphabet and are **well-formed according to a specific set of rules**. The field of formal language theory studies primarily the purely syntactical aspects of such languages—that is, their internal structural patterns.\n",
        "\n",
        "> ***Regular Languages***: A regular language is a category of **formal languages** which can be expressed using a regular expression. ![](images/formal-lang-theory.png)\n",
        "\n",
        "- **Note**: Today, many regular expressions engines provided by modern programming languages are augmented with features that allow recognition of languages that <span style=\"color:red;\">**cannot**</span> be expressed by a classic regular expression!\n"
      ]
    },
    {
      "cell_type": "markdown",
      "metadata": {
        "id": "B8OxOABw3nS_"
      },
      "source": [
        "## 3. Uses of Regular Expressions\n",
        "\n",
        "Some important usages of regular expressions are:\n",
        "\n",
        "- Check if an input honors a given pattern; for example, we can check whether a value entered in a HTML formulary is a valid e-mail address\n",
        "\n",
        "\n",
        "- Look for a pattern appearance in a piece of text; for example, check if either the word \"color\" or the word \"colour\" appears in a document with just **one scan**\n",
        "\n",
        "\n",
        "- Extract specific portions of a text; for example, extract the postal code of an address\n",
        "\n",
        "\n",
        "- Replace portions of text; for example, change any appearance of \"color\" or \"colour\" with \"red\"\n",
        "\n",
        "\n",
        "- Split a larger text into smaller pieces, for example, splitting a text by any appearance of the dot, comma, or newline characters"
      ]
    },
    {
      "cell_type": "markdown",
      "metadata": {
        "id": "zwO6khTc3nTA"
      },
      "source": [
        "## 4. A brief history of Regular Expressions\n",
        "\n",
        "> *The story begins with a neuroscientist and a logician who together tried to understand how the human brain could produce complex patterns using simple cells that are bound together.*\n",
        "\n",
        "- In 1943, neurophysiologists ***Warren McCulloch*** and ***Walter Pitts*** published ***\"A logical calculus of the ideas immanent in nervous activity\"***. This paper not only represented the beginning of the regular expressions, but also proposed the first mathematical model of a neural network.\n",
        "\n",
        "\n",
        "- In 1956, ***Stephen Kleene*** wrote the paper ***\"Representation of events in nerve nets and finite automata\"***, where he coined the terms **regular sets** and **regular expressions** and presented a simple algebra.\n",
        "\n",
        "\n",
        "- In 1968, the Unix pioneer ***Ken Thompson***  took Kleene's work and extended it, publishing his studies in the paper ***\"Regular Expression Search Algorithm\"***. Ken Thompson's work didn't end in just writing a paper. He also implemented Kleene’s notation in the editor ***QED***. The aim was that the user could do advanced pattern matching in text files. The same feature appeared later on in the editor ***ed***.\n",
        "\n",
        "> To search for a Regular Expression in ed you wrote `g/<regular expression>/p` The letter g meant global search and p meant print the result. The command — `g/re/p` — resulted in the standalone program grep, released in the fourth edition of Unix 1973.<br><span style=\"color:red;\">However, **grep** didn’t have a complete implementation of regular expressions.</span>\n",
        "\n",
        "- In 1979, ***Alfred Aho*** developed ***egrep (extended grep)*** in the seventh edition of Unix. The program egrep translated any regular expressions to a corresponding [DFA](https://en.wikipedia.org/wiki/Deterministic_finite_automaton).\n",
        "\n",
        "\n",
        "- In 1987, ***Larry Wall*** created the scripting language ***Perl***. Regular Expressions are seamlessly integrated in Perl, even with its own literals. Hence, Perl pushed the regular expressions to the mainstream. The implementation in Perl went forward and added many modifications to the original regular expression syntax, creating the so-called ***Perl flavor***.\n",
        "\n",
        "### Some other worth mentioning milestones\n",
        "\n",
        "- The IEEE thought their POSIX standard has tried to standardize and give better Unicode support to the regular expression syntax and behaviors. This is called the ***POSIX flavor*** of the regular expressions.\n",
        "\n",
        "\n",
        "- In late 1980s, ***Henry Spencer*** wrote ***\"regex\"***, a widely used software library for regular expressions in C programming langauge.\n",
        "\n",
        "\n",
        "### Here is a brief timeline to summarize...\n",
        "\n",
        "![](images/history.png)\n",
        "\n",
        "### Regex today\n",
        "\n",
        "- It was the rise of the web that gave a big boost to the Perl implementation of regex, and that's where we get the modern syntax of regular expressions today; it really comes from Perl. `Apache`, `C`, `C++`, `the .NET languages`, `Java`, `JavaScript`, `MySQL`, `PHP`, `Python`, `Ruby` all of these are endeavoring to be Perl-compatible languages and programs. There's also a library called the `PCRE` library that stands for Perl-Compatible Regular Expression library.\n",
        "\n",
        "\n",
        "- Today, the standard Python module for regular expressions—`re`—supports only Perl-style regular expressions. There is an [effort](https://pypi.python.org/pypi/regex) to write a new regex module with better POSIX style support. This new module is intended to replace Python's `re` module implementation eventually. "
      ]
    },
    {
      "cell_type": "code",
      "execution_count": null,
      "metadata": {
        "id": "S0LUi5Hf3nTA",
        "outputId": "326d8cb8-25f2-40d1-93f6-72bf3da43e6a"
      },
      "outputs": [
        {
          "data": {
            "text/plain": [
              "'dh'"
            ]
          },
          "execution_count": 7,
          "metadata": {},
          "output_type": "execute_result"
        }
      ],
      "source": [
        "s1=\"abcd\"\n",
        "s2=\"efghi\"\n",
        "def laceString(s1,s2):\n",
        "    for i in range(0,len(s1)):\n",
        "        a=s1[i]+s2[i]\n",
        "        c=a\n",
        "        \n",
        "    \n",
        "\n",
        "\n",
        "lace=laceString(s1,s2)\n",
        "lace\n",
        "\n"
      ]
    },
    {
      "cell_type": "markdown",
      "metadata": {
        "id": "bdUCO2Kx3nTB"
      },
      "source": [
        "## 5. Understanding the Regular Expression Syntax\n",
        "\n",
        "A regex pattern is a simple sequence of characters. The components of a regex pattern are:\n",
        "\n",
        "- **literals (ordinary characters)**: these characters carry no special meaning and are processed as it is.\n",
        "\n",
        "- **metacharacters (special characters)**: these characters carry a special meaning and processed in some special way.\n",
        "\n",
        "\n",
        "![](images/components.png)\n",
        "\n",
        "Let's start with a simple example.\n",
        "\n",
        "Consider that we have got the list of several filenames in a folder.\n",
        "\n",
        "```\n",
        "file1.xml\n",
        "file1.txt\n",
        "file2.txt\n",
        "file15.xml\n",
        "file5.docx\n",
        "file60.txt\n",
        "file5.txt\n",
        "```\n",
        "\n",
        "And we want to filter out only those filenames which follow a specific pattern, i.e.  `file<one or more digits>.txt`.\n",
        "\n",
        "> Let's try to do this on an online tool to learn, build, & test Regular Expressions (RegEx / RegExp), [RegExr](https://regexr.com).\n",
        "\n",
        "So, the regular expression we need here is:\n",
        "\n",
        "`file\\d+\\.txt`\n",
        "\n",
        "This expression can be understood as follows:\n",
        "\n",
        "- `file` is a substring of literals which are matched with the input as it is.\n",
        "\n",
        "- `\\d` is a metacharacter which instructs the software to match this position with a digit (0-9).\n",
        "\n",
        "- `+` is also a metacharacter which instructs the software to match one or more iterations of the preceeding character (`\\d` in this case)\n",
        "\n",
        "- `\\.` is a literal. `.` is a metacharacter but we want to use it as a literal in this case. Hence, we escape it using `\\` character.\n",
        "\n",
        "- `txt` is a substring of literals which are matched with the input as it is.\n",
        "\n",
        "![](images/example1.png)"
      ]
    },
    {
      "cell_type": "markdown",
      "metadata": {
        "id": "mhZbr7ai3nTB"
      },
      "source": [
        "![](images/memes/meme2.jpg)"
      ]
    },
    {
      "cell_type": "code",
      "source": [],
      "metadata": {
        "id": "iSsFVUvE4BR3"
      },
      "execution_count": null,
      "outputs": []
    },
    {
      "cell_type": "markdown",
      "metadata": {
        "id": "cuMVdLNf32sD"
      },
      "source": [
        "## Getting started \n",
        "\n",
        "The **[re](https://docs.python.org/3/howto/regex.html)** module provides an interface to the regular expression engine, allowing you to **compile regular expressions into objects and then perform matches with them**."
      ]
    },
    {
      "cell_type": "code",
      "execution_count": null,
      "metadata": {
        "id": "tm4EKhRZ32sE"
      },
      "outputs": [],
      "source": [
        "import re"
      ]
    },
    {
      "cell_type": "markdown",
      "metadata": {
        "id": "JUc0i3AL32sF"
      },
      "source": [
        "## 1. Compiling Regular Expressions\n",
        "\n",
        "Regular expressions are **compiled** into `Pattern` objects, which have methods for various operations such as searching for pattern matches or performing string substitutions.\n",
        "\n",
        "\n",
        "### `re.compile(pattern, flags=0)`\n",
        "\n",
        "Compile a regular expression pattern, returning a pattern object.\n",
        "\n",
        "- The regular expression is passed to `re.compile()` as a **string**. \n",
        "\n",
        "> Regular expressions are handled as strings because regular expressions aren’t part of the core Python language, and no special syntax was created for expressing them. \n",
        "\n",
        "> Regular expression patterns are compiled into a series of bytecodes which are then executed by a matching engine written in C."
      ]
    },
    {
      "cell_type": "code",
      "execution_count": null,
      "metadata": {
        "id": "ymHcA0aP32sG"
      },
      "outputs": [],
      "source": [
        "pattern = re.compile(\"hello\")"
      ]
    },
    {
      "cell_type": "code",
      "execution_count": null,
      "metadata": {
        "id": "fOLdx1fU32sG",
        "outputId": "39bfe1a5-4e6f-4ffe-a865-63f453374368"
      },
      "outputs": [
        {
          "data": {
            "text/plain": [
              "re.compile(r'hello', re.UNICODE)"
            ]
          },
          "execution_count": 4,
          "metadata": {},
          "output_type": "execute_result"
        }
      ],
      "source": [
        "pattern"
      ]
    },
    {
      "cell_type": "markdown",
      "metadata": {
        "id": "I0SOX9ap32sH"
      },
      "source": [
        "- `re.compile()` also accepts an optional `flags` argument, used to enable various special features and syntax variations. [More about flags](http://xahlee.info/python/python_regex_flags.html)\n",
        "\n",
        "<br>\n",
        "\n",
        "In the example below, we use the flag `re.I` (short for `re.IGNORECASE`) to ignore letter case in the regex pattern."
      ]
    },
    {
      "cell_type": "code",
      "execution_count": null,
      "metadata": {
        "id": "xBWpOK5R32sI"
      },
      "outputs": [],
      "source": [
        "pattern = re.compile(\"hello\", flags=re.I)"
      ]
    },
    {
      "cell_type": "code",
      "execution_count": null,
      "metadata": {
        "id": "hESq9ZnE32sI",
        "outputId": "523507fe-bdd0-4ce1-8629-de89a5f1f540"
      },
      "outputs": [
        {
          "data": {
            "text/plain": [
              "re.compile(r'hello', re.IGNORECASE|re.UNICODE)"
            ]
          },
          "execution_count": 6,
          "metadata": {},
          "output_type": "execute_result"
        }
      ],
      "source": [
        "pattern"
      ]
    },
    {
      "cell_type": "markdown",
      "metadata": {
        "id": "qL0dijiS32sJ"
      },
      "source": [
        "## 2. Performing Matches\n",
        "\n",
        "So, we have created a `Pattern` object representing a compiled regular expression using `re.compile()` method.\n",
        "\n",
        "Pattern objects have several methods and attributes.\n",
        "\n",
        "Here is the list of different methods used for performing matches:\n",
        "\n",
        "\n",
        "<table style=\"border: 1px solid black; font-size:15px;\">\n",
        "<thead>\n",
        "    <th>Method/Attribute</th>\n",
        "    <th>Purpose</th>\n",
        "</thead>\n",
        "    \n",
        "<tbody>\n",
        "<tr>\n",
        "    <td>match()</td>\n",
        "    <td>Determine if the RE matches at the beginning of the string.</td>\n",
        "</tr>\n",
        "    \n",
        "<tr>\n",
        "    <td>search()</td>\n",
        "    <td>Scan through a string, looking for any location where this RE matches.</td>\n",
        "</tr>\n",
        "\n",
        "<tr>\n",
        "    <td>findall()</td>\n",
        "    <td>Find all substrings where the RE matches, and returns them as a list.</td>\n",
        "</tr>\n",
        "\n",
        "<tr>\n",
        "    <td>finditer()</td>\n",
        "    <td>Find all substrings where the RE matches, and returns them as an iterator.</td>\n",
        "</tr>\n",
        "</tbody>\n",
        "</table>\n",
        "\n",
        "Let us go through them one by one:\n",
        "\n",
        "### `match(string[, pos[, endpos]])`\n",
        "\n",
        "- A match is checked only at the beginning (by default).\n",
        "\n",
        "- Checking starts from `pos` index of the string. (default is 0)\n",
        "\n",
        "- Checking is done until `endpos` index of string. `endpos` is set as a very large integer (by default).\n",
        "\n",
        "- Returns `None` if no match found.\n",
        "\n",
        "- If a match is found, a `Match` object is returned, containing information about the match: where it starts and ends, the substring it matched, and more."
      ]
    },
    {
      "cell_type": "code",
      "execution_count": null,
      "metadata": {
        "id": "fZ6NufWs32sK"
      },
      "outputs": [],
      "source": [
        "pattern = re.compile(\"hello\")"
      ]
    },
    {
      "cell_type": "code",
      "execution_count": null,
      "metadata": {
        "id": "-PxEiDHk32sK"
      },
      "outputs": [],
      "source": [
        "match = pattern.match(\"hello world\")"
      ]
    },
    {
      "cell_type": "code",
      "execution_count": null,
      "metadata": {
        "id": "fAT04kgP32sL",
        "outputId": "a53e1f61-8ab5-4539-8452-24b5a374e192"
      },
      "outputs": [
        {
          "data": {
            "text/plain": [
              "(0, 5)"
            ]
          },
          "execution_count": 9,
          "metadata": {},
          "output_type": "execute_result"
        }
      ],
      "source": [
        "match.span()"
      ]
    },
    {
      "cell_type": "code",
      "execution_count": null,
      "metadata": {
        "id": "bbsq-Dd832sL",
        "outputId": "4aa94f48-ba26-4883-9852-f3011f93f8bb"
      },
      "outputs": [
        {
          "data": {
            "text/plain": [
              "0"
            ]
          },
          "execution_count": 9,
          "metadata": {},
          "output_type": "execute_result"
        }
      ],
      "source": [
        "match.start()"
      ]
    },
    {
      "cell_type": "code",
      "execution_count": null,
      "metadata": {
        "id": "ea8D_H0n32sL",
        "outputId": "e3c001ee-a20c-41d7-95a2-2b3638e26bf4"
      },
      "outputs": [
        {
          "data": {
            "text/plain": [
              "5"
            ]
          },
          "execution_count": 10,
          "metadata": {},
          "output_type": "execute_result"
        }
      ],
      "source": [
        "match.end()"
      ]
    },
    {
      "cell_type": "code",
      "execution_count": null,
      "metadata": {
        "id": "Er-HHjBw32sL",
        "outputId": "363b4da9-97e7-4d0c-8e18-9ac3d1e1f9f3"
      },
      "outputs": [
        {
          "data": {
            "text/plain": [
              "False"
            ]
          },
          "execution_count": 11,
          "metadata": {},
          "output_type": "execute_result"
        }
      ],
      "source": [
        "pattern.match(\"say hello\", pos=4) is None"
      ]
    },
    {
      "cell_type": "code",
      "execution_count": null,
      "metadata": {
        "id": "TwHBKoQO32sM",
        "outputId": "f384de92-3908-4cd0-a494-159cc43f7b9b"
      },
      "outputs": [
        {
          "data": {
            "text/plain": [
              "True"
            ]
          },
          "execution_count": 12,
          "metadata": {},
          "output_type": "execute_result"
        }
      ],
      "source": [
        "pattern.match(\"hello\", endpos=4) is None"
      ]
    },
    {
      "cell_type": "markdown",
      "metadata": {
        "id": "iPSbTsu-32sM"
      },
      "source": [
        "### `search(string[, pos[, endpos]])`\n",
        "\n",
        "- A match is checked throughtout the string.\n",
        "\n",
        "- Same behaviour of `pos` and `endpos` as the `match()` function.\n",
        "\n",
        "- Returns `None` if no match found.\n",
        "\n",
        "- If a match is found, a `Match` object is returned."
      ]
    },
    {
      "cell_type": "code",
      "execution_count": null,
      "metadata": {
        "id": "kfao1YFf32sM",
        "outputId": "c814042b-becb-4256-da31-af0b90e53335"
      },
      "outputs": [
        {
          "data": {
            "text/plain": [
              "<_sre.SRE_Match object; span=(4, 9), match='hello'>"
            ]
          },
          "execution_count": 13,
          "metadata": {},
          "output_type": "execute_result"
        }
      ],
      "source": [
        "pattern.search(\"say hello\")"
      ]
    },
    {
      "cell_type": "code",
      "execution_count": null,
      "metadata": {
        "id": "NkOO304k32sN",
        "outputId": "f59fedbe-5fae-4e90-8fd2-43fbde8bfbe2"
      },
      "outputs": [
        {
          "data": {
            "text/plain": [
              "<_sre.SRE_Match object; span=(4, 9), match='hello'>"
            ]
          },
          "execution_count": 14,
          "metadata": {},
          "output_type": "execute_result"
        }
      ],
      "source": [
        "pattern.search(\"say hello hello\")"
      ]
    },
    {
      "cell_type": "markdown",
      "metadata": {
        "id": "Uwmt_oi132sN"
      },
      "source": [
        "### `findall(string[, pos[, endpos]])`\n",
        "\n",
        "- Finds **all non-overlapping substrings** where the match is found, and returns them as a list.\n",
        "\n",
        "- Same behaviour of `pos` and `endpos` as the `match()` and `search()` function."
      ]
    },
    {
      "cell_type": "code",
      "execution_count": null,
      "metadata": {
        "id": "Y8uVFstP32sN",
        "outputId": "3eec4c23-fd50-4a96-b9d6-d26f91944b95"
      },
      "outputs": [
        {
          "data": {
            "text/plain": [
              "['hello', 'hello']"
            ]
          },
          "execution_count": 15,
          "metadata": {},
          "output_type": "execute_result"
        }
      ],
      "source": [
        "pattern.findall(\"say hello hello\")"
      ]
    },
    {
      "cell_type": "markdown",
      "metadata": {
        "id": "1rrQ81F832sO"
      },
      "source": [
        "### `finditer(string[, pos[, endpos]])`\n",
        "\n",
        "- Finds **all non-overlapping substrings** where the match is found, and returns them as an iterator of the `Match` objects.\n",
        "\n",
        "- Same behaviour of `pos` and `endpos` as the `match()`, `search()` and `findall()` function."
      ]
    },
    {
      "cell_type": "code",
      "execution_count": null,
      "metadata": {
        "id": "QttkCAxU32sO"
      },
      "outputs": [],
      "source": [
        "matches = pattern.finditer(\"say hello hello\")"
      ]
    },
    {
      "cell_type": "code",
      "execution_count": null,
      "metadata": {
        "id": "zEyREBgy32sO",
        "outputId": "2e417a7a-d3a5-43a6-9364-55190aa3de39"
      },
      "outputs": [
        {
          "name": "stdout",
          "output_type": "stream",
          "text": [
            "(4, 9)\n",
            "(10, 15)\n"
          ]
        }
      ],
      "source": [
        "for match in matches:\n",
        "    print(match.span())"
      ]
    },
    {
      "cell_type": "code",
      "execution_count": null,
      "metadata": {
        "id": "Tk3-raX132sO",
        "outputId": "9ff4f473-2b19-46c6-9066-e68f947a8a99"
      },
      "outputs": [
        {
          "name": "stdout",
          "output_type": "stream",
          "text": [
            "say \u001b[43m\u001b[1mhello\u001b[0m \u001b[43m\u001b[1mhello\u001b[0m\n"
          ]
        }
      ],
      "source": [
        "from utils import highlight_regex_matches\n",
        "highlight_regex_matches(pattern, \"say hello hello\")"
      ]
    },
    {
      "cell_type": "markdown",
      "metadata": {
        "id": "b6TKJ_Dd32sP"
      },
      "source": [
        "> By now, you must have noticed that `match()`, `search()` and `finditer()` return `Match` object(s) where as `findall()` returns a list of strings.\n",
        "\n",
        "\n",
        "### Note:\n",
        "\n",
        "It is not mandatory to create a `Pattern` object explicitly using `re.compile()` method in order to perform a regex operation.\n",
        "\n",
        "You can direclty use the module level functions such as:\n",
        "- `re.match(pattern, string, flags=0)`\n",
        "\n",
        "- `re.search(pattern, string, flags=0)`\n",
        "\n",
        "- `re.findall(pattern, string, flags=0)`\n",
        "\n",
        "- `re.finditer(pattern, string, flags=0)`\n",
        "\n",
        "and so on.\n",
        "\n",
        "In a module level function, you can simply pass a **string** as your **regex pattern** as shown in the examples below."
      ]
    },
    {
      "cell_type": "code",
      "execution_count": null,
      "metadata": {
        "id": "uzN9JrpI32sP",
        "outputId": "ad94a879-1d1c-4a85-bab4-dd01c25c92b4"
      },
      "outputs": [
        {
          "data": {
            "text/plain": [
              "<_sre.SRE_Match object; span=(0, 5), match='hello'>"
            ]
          },
          "execution_count": 19,
          "metadata": {},
          "output_type": "execute_result"
        }
      ],
      "source": [
        "re.match(\"hello\", \"hello\")"
      ]
    },
    {
      "cell_type": "code",
      "execution_count": null,
      "metadata": {
        "id": "GsplqDL032sP",
        "outputId": "800bd4af-df59-44fd-9428-de1a71cfa195"
      },
      "outputs": [
        {
          "data": {
            "text/plain": [
              "['hello', 'hello']"
            ]
          },
          "execution_count": 20,
          "metadata": {},
          "output_type": "execute_result"
        }
      ],
      "source": [
        "re.findall(\"hello\", \"say hello hello\")"
      ]
    },
    {
      "cell_type": "markdown",
      "metadata": {
        "id": "EG9_qn1k32sP"
      },
      "source": [
        "### Important Example\n",
        "\n",
        "Consider the example below:"
      ]
    },
    {
      "cell_type": "code",
      "execution_count": null,
      "metadata": {
        "id": "NJDNmkq_32sP"
      },
      "outputs": [],
      "source": [
        "txt = \"This book costs $15.\""
      ]
    },
    {
      "cell_type": "markdown",
      "metadata": {
        "id": "w7bZM4bZ32sP"
      },
      "source": [
        "Search for the pattern `$15`."
      ]
    },
    {
      "cell_type": "code",
      "execution_count": null,
      "metadata": {
        "id": "g0dc5DbN32sQ"
      },
      "outputs": [],
      "source": [
        "pattern = re.compile(\"$15\")"
      ]
    },
    {
      "cell_type": "code",
      "execution_count": null,
      "metadata": {
        "id": "cr7IGOqz32sQ"
      },
      "outputs": [],
      "source": [
        "pattern.search(txt)"
      ]
    },
    {
      "cell_type": "markdown",
      "metadata": {
        "id": "PAn_eTH432sQ"
      },
      "source": [
        "### No match found. Why?\n",
        "\n",
        "`$` is a metacharacter and has a special meaning for regex engine. Here, we want to treat it like a literal.\n",
        "\n",
        "In order to treat a metacharacter like a literal, you need to **escape** it using `\\` character."
      ]
    },
    {
      "cell_type": "code",
      "execution_count": null,
      "metadata": {
        "id": "3Sbilhp-32sQ"
      },
      "outputs": [],
      "source": [
        "pattern = re.compile(\"\\$15\")"
      ]
    },
    {
      "cell_type": "code",
      "execution_count": null,
      "metadata": {
        "id": "MXH-IHaH32sQ",
        "outputId": "c432b36e-33c9-4565-ef18-e509512b6897"
      },
      "outputs": [
        {
          "data": {
            "text/plain": [
              "<_sre.SRE_Match object; span=(16, 19), match='$15'>"
            ]
          },
          "execution_count": 25,
          "metadata": {},
          "output_type": "execute_result"
        }
      ],
      "source": [
        "pattern.search(txt)"
      ]
    },
    {
      "cell_type": "markdown",
      "metadata": {
        "id": "z76bxPVa32sQ"
      },
      "source": [
        "In regular expressions, there are twelve metacharacters that should be escaped if they are to be used with their literal meaning:\n",
        "\n",
        "- Backslash `\\`\n",
        "- Caret `^`\n",
        "- Dollar sign `$`\n",
        "- Dot `.`\n",
        "- Pipe symbol `|`\n",
        "- Question mark `?`\n",
        "- Asterisk `*`\n",
        "- Plus sign `+`\n",
        "- Opening parenthesis `(`\n",
        "- Closing parenthesis `)`\n",
        "- Opening square bracket `[`\n",
        "- The opening curly brace `{`"
      ]
    },
    {
      "cell_type": "code",
      "source": [],
      "metadata": {
        "id": "KztAY6lE5C21"
      },
      "execution_count": null,
      "outputs": []
    },
    {
      "cell_type": "markdown",
      "metadata": {
        "id": "hHxMmHq24-Lo"
      },
      "source": [
        "# Character Classes\n",
        "\n",
        "- The **character classes** (also known as **character sets**) allow us to define a character that will match if any of the defined characters on the set is present.\n",
        "\n",
        "\n",
        "- To define a character class, we should use the opening square bracket metacharacter `[`, then any accepted characters, and finally close with a closing square bracket `]`.\n",
        "\n",
        "### Example 1\n",
        "\n",
        "Consider an example below where we have messed up between `license` and `licence` spellings and want to find all occurances of `license`/`licence` in the text."
      ]
    },
    {
      "cell_type": "code",
      "execution_count": null,
      "metadata": {
        "id": "SqBxDpXW4-Lp"
      },
      "outputs": [],
      "source": [
        "import re\n",
        "from utils import highlight_regex_matches"
      ]
    },
    {
      "cell_type": "code",
      "execution_count": null,
      "metadata": {
        "id": "gfFNuWH44-Lq"
      },
      "outputs": [],
      "source": [
        "txt = \"\"\"\n",
        "Yesterday, I was driving my car without a driving licence. The traffic police stopped me and asked me for my \n",
        "license. I told them that I forgot my licence at home. \n",
        "\"\"\""
      ]
    },
    {
      "cell_type": "code",
      "execution_count": null,
      "metadata": {
        "id": "iAioCCC44-Lq"
      },
      "outputs": [],
      "source": [
        "pattern = re.compile(\"licen[cs]e\")"
      ]
    },
    {
      "cell_type": "code",
      "execution_count": null,
      "metadata": {
        "id": "13vQ94R74-Lr",
        "outputId": "01fd2342-1cba-4940-e123-9aac3a50ec68"
      },
      "outputs": [
        {
          "data": {
            "text/plain": [
              "['licence', 'license', 'licence']"
            ]
          },
          "execution_count": 4,
          "metadata": {},
          "output_type": "execute_result"
        }
      ],
      "source": [
        "pattern.findall(txt)"
      ]
    },
    {
      "cell_type": "code",
      "execution_count": null,
      "metadata": {
        "id": "b2ZIrjrQ4-Ls",
        "outputId": "7d9a360a-b159-4fdb-f232-d93d2f6bdf24"
      },
      "outputs": [
        {
          "name": "stdout",
          "output_type": "stream",
          "text": [
            "\n",
            "Yesterday, I was driving my car without a driving \u001b[43m\u001b[1mlicence\u001b[0m. The traffic police stopped me and asked me for my \n",
            "\u001b[43m\u001b[1mlicense\u001b[0m. I told them that I forgot my \u001b[43m\u001b[1mlicence\u001b[0m at home. \n",
            "\n"
          ]
        }
      ],
      "source": [
        "highlight_regex_matches(pattern, txt)"
      ]
    },
    {
      "cell_type": "markdown",
      "metadata": {
        "id": "l4IbHFNE4-Ls"
      },
      "source": [
        "![](images/example2.png)"
      ]
    },
    {
      "cell_type": "markdown",
      "metadata": {
        "id": "MJaSwB7C4-Lt"
      },
      "source": [
        "# Character Set Range\n",
        "\n",
        "> It is possible to also use the range of a character. This is done by leveraging the hyphen symbol (-) between two related characters; for example, to match any lowercase letter we can use `[a-z]`. Likewise, to match any single digit we can define the character set `[0-9]`.\n",
        "\n",
        "Let us consider an example in which we want to retrieve all the years from the given text."
      ]
    },
    {
      "cell_type": "code",
      "execution_count": null,
      "metadata": {
        "id": "PYac9Bm84-Lu"
      },
      "outputs": [],
      "source": [
        "txt = \"\"\"\n",
        "The first season of Indian Premiere League (IPL) was played in 2008. \n",
        "The second season was played in 2009 in South Africa. \n",
        "Last season was played in 2018 and won by Chennai Super Kings (CSK).\n",
        "CSK won the title in 2010 and 2011 as well.\n",
        "Mumbai Indians (MI) has also won the title 3 times in 2013, 2015 and 2017.\n",
        "\"\"\""
      ]
    },
    {
      "cell_type": "code",
      "execution_count": null,
      "metadata": {
        "id": "O8Mqn3Jf4-Lu"
      },
      "outputs": [],
      "source": [
        "pattern = re.compile(\"[1-9][0-9][0-9][0-9]\")"
      ]
    },
    {
      "cell_type": "code",
      "execution_count": null,
      "metadata": {
        "id": "Gqv_KwMG4-Lu",
        "outputId": "992546e8-c85b-41cf-9067-fdf92f2f6213"
      },
      "outputs": [
        {
          "data": {
            "text/plain": [
              "['2008', '2009', '2018', '2010', '2011', '2013', '2015', '2017']"
            ]
          },
          "execution_count": 8,
          "metadata": {},
          "output_type": "execute_result"
        }
      ],
      "source": [
        "pattern.findall(txt)"
      ]
    },
    {
      "cell_type": "code",
      "execution_count": null,
      "metadata": {
        "id": "A08SY2xe4-Lv",
        "outputId": "ab38759a-d4b3-47d2-8fdc-83db7de74a7b"
      },
      "outputs": [
        {
          "name": "stdout",
          "output_type": "stream",
          "text": [
            "\n",
            "The first season of Indian Premiere League (IPL) was played in \u001b[43m\u001b[1m2008\u001b[0m. \n",
            "The second season was played in \u001b[43m\u001b[1m2009\u001b[0m in South Africa. \n",
            "Last season was played in \u001b[43m\u001b[1m2018\u001b[0m and won by Chennai Super Kings (CSK).\n",
            "CSK won the title in \u001b[43m\u001b[1m2010\u001b[0m and \u001b[43m\u001b[1m2011\u001b[0m as well.\n",
            "Mumbai Indians (MI) has also won the title 3 times in \u001b[43m\u001b[1m2013\u001b[0m, \u001b[43m\u001b[1m2015\u001b[0m and \u001b[43m\u001b[1m2017\u001b[0m.\n",
            "\n"
          ]
        }
      ],
      "source": [
        "highlight_regex_matches(pattern, txt)"
      ]
    },
    {
      "cell_type": "markdown",
      "metadata": {
        "id": "pe7Y8xpb4-Lv"
      },
      "source": [
        "> There is another possibility—the negation of ranges. We can invert the meaning\n",
        "of a character set by placing a caret (`^`) symbol right after the opening square\n",
        "bracket metacharacter (`[`).\n",
        "\n",
        "For example, to find all the characters used in a text except vowels, we can use the pattern:"
      ]
    },
    {
      "cell_type": "code",
      "execution_count": null,
      "metadata": {
        "id": "PuDeaeB64-Lw"
      },
      "outputs": [],
      "source": [
        "pattern = re.compile(\"[^aeiou]\")"
      ]
    },
    {
      "cell_type": "code",
      "execution_count": null,
      "metadata": {
        "scrolled": true,
        "id": "zE7VYXUn4-Lw",
        "outputId": "375cd0bb-03bb-4ff0-876e-6b8257a6afca"
      },
      "outputs": [
        {
          "data": {
            "text/plain": [
              "['\\n',\n",
              " 'T',\n",
              " 'h',\n",
              " ' ',\n",
              " 'f',\n",
              " 'r',\n",
              " 's',\n",
              " 't',\n",
              " ' ',\n",
              " 's',\n",
              " 's',\n",
              " 'n',\n",
              " ' ',\n",
              " 'f',\n",
              " ' ',\n",
              " 'I',\n",
              " 'n',\n",
              " 'd',\n",
              " 'n',\n",
              " ' ',\n",
              " 'P',\n",
              " 'r',\n",
              " 'm',\n",
              " 'r',\n",
              " ' ',\n",
              " 'L',\n",
              " 'g',\n",
              " ' ',\n",
              " '(',\n",
              " 'I',\n",
              " 'P',\n",
              " 'L',\n",
              " ')',\n",
              " ' ',\n",
              " 'w',\n",
              " 's',\n",
              " ' ',\n",
              " 'p',\n",
              " 'l',\n",
              " 'y',\n",
              " 'd',\n",
              " ' ',\n",
              " 'n',\n",
              " ' ',\n",
              " '2',\n",
              " '0',\n",
              " '0',\n",
              " '8',\n",
              " '.',\n",
              " ' ',\n",
              " '\\n',\n",
              " 'T',\n",
              " 'h',\n",
              " ' ',\n",
              " 's',\n",
              " 'c',\n",
              " 'n',\n",
              " 'd',\n",
              " ' ',\n",
              " 's',\n",
              " 's',\n",
              " 'n',\n",
              " ' ',\n",
              " 'w',\n",
              " 's',\n",
              " ' ',\n",
              " 'p',\n",
              " 'l',\n",
              " 'y',\n",
              " 'd',\n",
              " ' ',\n",
              " 'n',\n",
              " ' ',\n",
              " '2',\n",
              " '0',\n",
              " '0',\n",
              " '9',\n",
              " ' ',\n",
              " 'n',\n",
              " ' ',\n",
              " 'S',\n",
              " 't',\n",
              " 'h',\n",
              " ' ',\n",
              " 'A',\n",
              " 'f',\n",
              " 'r',\n",
              " 'c',\n",
              " '.',\n",
              " ' ',\n",
              " '\\n',\n",
              " 'L',\n",
              " 's',\n",
              " 't',\n",
              " ' ',\n",
              " 's',\n",
              " 's',\n",
              " 'n',\n",
              " ' ',\n",
              " 'w',\n",
              " 's',\n",
              " ' ',\n",
              " 'p',\n",
              " 'l',\n",
              " 'y',\n",
              " 'd',\n",
              " ' ',\n",
              " 'n',\n",
              " ' ',\n",
              " '2',\n",
              " '0',\n",
              " '1',\n",
              " '8',\n",
              " ' ',\n",
              " 'n',\n",
              " 'd',\n",
              " ' ',\n",
              " 'w',\n",
              " 'n',\n",
              " ' ',\n",
              " 'b',\n",
              " 'y',\n",
              " ' ',\n",
              " 'C',\n",
              " 'h',\n",
              " 'n',\n",
              " 'n',\n",
              " ' ',\n",
              " 'S',\n",
              " 'p',\n",
              " 'r',\n",
              " ' ',\n",
              " 'K',\n",
              " 'n',\n",
              " 'g',\n",
              " 's',\n",
              " ' ',\n",
              " '(',\n",
              " 'C',\n",
              " 'S',\n",
              " 'K',\n",
              " ')',\n",
              " '.',\n",
              " '\\n',\n",
              " 'C',\n",
              " 'S',\n",
              " 'K',\n",
              " ' ',\n",
              " 'w',\n",
              " 'n',\n",
              " ' ',\n",
              " 't',\n",
              " 'h',\n",
              " ' ',\n",
              " 't',\n",
              " 't',\n",
              " 'l',\n",
              " ' ',\n",
              " 'n',\n",
              " ' ',\n",
              " '2',\n",
              " '0',\n",
              " '1',\n",
              " '0',\n",
              " ' ',\n",
              " 'n',\n",
              " 'd',\n",
              " ' ',\n",
              " '2',\n",
              " '0',\n",
              " '1',\n",
              " '1',\n",
              " ' ',\n",
              " 's',\n",
              " ' ',\n",
              " 'w',\n",
              " 'l',\n",
              " 'l',\n",
              " '.',\n",
              " '\\n',\n",
              " 'M',\n",
              " 'm',\n",
              " 'b',\n",
              " ' ',\n",
              " 'I',\n",
              " 'n',\n",
              " 'd',\n",
              " 'n',\n",
              " 's',\n",
              " ' ',\n",
              " '(',\n",
              " 'M',\n",
              " 'I',\n",
              " ')',\n",
              " ' ',\n",
              " 'h',\n",
              " 's',\n",
              " ' ',\n",
              " 'l',\n",
              " 's',\n",
              " ' ',\n",
              " 'w',\n",
              " 'n',\n",
              " ' ',\n",
              " 't',\n",
              " 'h',\n",
              " ' ',\n",
              " 't',\n",
              " 't',\n",
              " 'l',\n",
              " ' ',\n",
              " '3',\n",
              " ' ',\n",
              " 't',\n",
              " 'm',\n",
              " 's',\n",
              " ' ',\n",
              " 'n',\n",
              " ' ',\n",
              " '2',\n",
              " '0',\n",
              " '1',\n",
              " '3',\n",
              " ',',\n",
              " ' ',\n",
              " '2',\n",
              " '0',\n",
              " '1',\n",
              " '5',\n",
              " ' ',\n",
              " 'n',\n",
              " 'd',\n",
              " ' ',\n",
              " '2',\n",
              " '0',\n",
              " '1',\n",
              " '7',\n",
              " '.',\n",
              " '\\n']"
            ]
          },
          "execution_count": 11,
          "metadata": {},
          "output_type": "execute_result"
        }
      ],
      "source": [
        "pattern.findall(txt)"
      ]
    },
    {
      "cell_type": "markdown",
      "metadata": {
        "id": "Kg4MugDb4-Lw"
      },
      "source": [
        "# Predefined Character Classes\n",
        "\n",
        "There exist some predefined character classes which can be used as a shortcut for some frequently used classes.\n",
        "\n",
        "\n",
        "<table style=\"border: 1px solid black; font-size:15px;\">\n",
        "<thead>\n",
        "    <th>Element</th>\n",
        "    <th>Description</th>\n",
        "</thead>\n",
        "    \n",
        "<tbody>\n",
        "<tr>\n",
        "    <td>.</td>\n",
        "    <td>This element matches any character except newline</td>\n",
        "</tr>\n",
        "\n",
        "<tr>\n",
        "    <td>\\d</td>\n",
        "    <td>This matches any decimal digit; this is equivalent to the class [0-9]</td>\n",
        "</tr>\n",
        "\n",
        "<tr>\n",
        "    <td>\\D</td>\n",
        "    <td>This matches any non-digit character; this is equivalent to the class [^0-9]</td>\n",
        "</tr>\n",
        "\n",
        "<tr>\n",
        "    <td>\\s</td>\n",
        "    <td>This matches any whitespace character; this is equivalent to the class\n",
        "[ \\t\\n\\r\\f\\v]</td>\n",
        "</tr>\n",
        "\n",
        "<tr>\n",
        "    <td>\\S</td>\n",
        "    <td>This matches any non-whitespace character; this is equivalent to the class\n",
        "[^ \\t\\n\\r\\f\\v]</td>\n",
        "</tr>\n",
        "\n",
        "<tr>\n",
        "    <td>\\w</td>\n",
        "    <td>This matches any alphanumeric character; this is equivalent to the class\n",
        "[a-zA-Z0-9_]</td>\n",
        "</tr>\n",
        "    \n",
        "<tr>\n",
        "    <td>\\W</td>\n",
        "    <td>This matches any non-alphanumeric character; this is equivalent to the\n",
        "class [^a-zA-Z0-9_]</td>\n",
        "</tr>\n",
        "</tbody>\n",
        "</table>\n",
        "\n",
        "\n",
        "Now, we can improve our pattern to find years in a given text a bit:"
      ]
    },
    {
      "cell_type": "code",
      "execution_count": null,
      "metadata": {
        "id": "Ac0lVuaD4-Lx"
      },
      "outputs": [],
      "source": [
        "pattern = re.compile(\"[1-9]\\d\\d\\d\")"
      ]
    },
    {
      "cell_type": "code",
      "execution_count": null,
      "metadata": {
        "id": "QrmfhQyz4-Lx",
        "outputId": "967ff10b-3371-458e-c338-1cc7cbbbaf45"
      },
      "outputs": [
        {
          "data": {
            "text/plain": [
              "['2008', '2009', '2018', '2010', '2011', '2013', '2015', '2017']"
            ]
          },
          "execution_count": 13,
          "metadata": {},
          "output_type": "execute_result"
        }
      ],
      "source": [
        "pattern.findall(txt)"
      ]
    },
    {
      "cell_type": "markdown",
      "metadata": {
        "id": "L6hMjJ8i4-Lx"
      },
      "source": [
        "Let us try to find out all special symbols (non-alphanumeric, non-whitespace characters) in our text now."
      ]
    },
    {
      "cell_type": "code",
      "execution_count": null,
      "metadata": {
        "scrolled": true,
        "id": "l_opoP1b4-Lx",
        "outputId": "54bd8b24-d1ba-4a86-eeca-7a3146c1bb9e"
      },
      "outputs": [
        {
          "data": {
            "text/plain": [
              "['(', ')', '.', '.', '(', ')', '.', '.', '(', ')', ',', '.']"
            ]
          },
          "execution_count": 14,
          "metadata": {},
          "output_type": "execute_result"
        }
      ],
      "source": [
        "re.findall(\"[^\\w\\s]\", txt)"
      ]
    },
    {
      "cell_type": "markdown",
      "metadata": {
        "id": "hpkx1XS_4-Ly"
      },
      "source": [
        "![](images/memes/meme6.jpg)"
      ]
    },
    {
      "cell_type": "code",
      "source": [],
      "metadata": {
        "id": "zC44k-cI5kYr"
      },
      "execution_count": null,
      "outputs": []
    },
    {
      "cell_type": "markdown",
      "metadata": {
        "id": "VLtNhGJn5KJ2"
      },
      "source": [
        "# The Backslash Plague\n",
        "\n",
        "Let's start with an example.\n",
        "\n",
        "Consider a text containing some Windows style directory addresses in which we have to find `C:\\Windows\\System32` substring."
      ]
    },
    {
      "cell_type": "code",
      "execution_count": null,
      "metadata": {
        "id": "964NWMOD5KJ3"
      },
      "outputs": [],
      "source": [
        "import re\n",
        "\n"
      ]
    },
    {
      "cell_type": "code",
      "execution_count": null,
      "metadata": {
        "id": "pF5kS17C5KJ4"
      },
      "outputs": [],
      "source": [
        "txt = \"\"\"\n",
        "C:\\Windows\n",
        "C:\\Python\n",
        "C:\\Windows\\System32\n",
        "\"\"\""
      ]
    },
    {
      "cell_type": "code",
      "execution_count": null,
      "metadata": {
        "id": "h_lKfxoY5KJ4"
      },
      "outputs": [],
      "source": [
        "pattern = re.compile(r\"C:\\Windows\\System32\")"
      ]
    },
    {
      "cell_type": "code",
      "execution_count": null,
      "metadata": {
        "id": "PruvXvCi5KJ5"
      },
      "outputs": [],
      "source": [
        "pattern.search(txt)"
      ]
    },
    {
      "cell_type": "markdown",
      "metadata": {
        "id": "vlM4_ANk5KJ5"
      },
      "source": [
        "### Why are no matches found for above pattern?\n",
        "\n",
        "Regex Engine is treateing `\\` as metacharacters, whereas we intend to treat it like a literal.\n",
        "\n",
        "### Solution???\n",
        "\n",
        "We need to escape the metacharacters. A metacharacter can be escaped by putting a `\\` before it."
      ]
    },
    {
      "cell_type": "code",
      "execution_count": null,
      "metadata": {
        "id": "ml7e3xfU5KJ6"
      },
      "outputs": [],
      "source": [
        "pattern = re.compile(\"C:\\\\Windows\\\\System32\")"
      ]
    },
    {
      "cell_type": "code",
      "execution_count": null,
      "metadata": {
        "id": "GZOqaP0q5KJ7"
      },
      "outputs": [],
      "source": [
        "pattern.search(txt)"
      ]
    },
    {
      "cell_type": "code",
      "execution_count": null,
      "metadata": {
        "id": "_80ez2U35KJ7",
        "outputId": "1bd4d016-3246-4149-dc75-42e70b235e33"
      },
      "outputs": [
        {
          "name": "stdout",
          "output_type": "stream",
          "text": [
            "C:\\Windows\\System32\n"
          ]
        }
      ],
      "source": [
        "print(\"C:\\\\Windows\\\\System32\")"
      ]
    },
    {
      "cell_type": "markdown",
      "metadata": {
        "id": "tU-yN_7R5KJ9"
      },
      "source": [
        "### Still no match found. Why???\n",
        "\n",
        "`\\` is used as an escape at two different levels. \n",
        "\n",
        "- First, the Python interpreter itself performs substitutions for `\\` before the `re` module ever sees the pattern string. For instance, `\\n` is converted to a newline character, `\\t` is converted to a tab character, etc. \n",
        "\n",
        "- Finally, `re` reads the substituted pattern string and will apply its own substitutions for `\\` character. \n",
        "\n",
        "Hence, to use `\\` as a **literal**, we first escape `\\` with `\\\\` for python interpreter and then escape `\\\\` as `\\\\\\\\` for regex engine."
      ]
    },
    {
      "cell_type": "code",
      "execution_count": null,
      "metadata": {
        "id": "fPVDaePr5KJ9"
      },
      "outputs": [],
      "source": [
        "pattern = re.compile(\"C:\\\\\\\\Windows\\\\\\\\System32\")"
      ]
    },
    {
      "cell_type": "code",
      "execution_count": null,
      "metadata": {
        "id": "_vxuH33S5KJ-",
        "outputId": "8b038541-fd3f-4ac4-a59e-8be52a143585"
      },
      "outputs": [
        {
          "data": {
            "text/plain": [
              "<re.Match object; span=(22, 41), match='C:\\\\Windows\\\\System32'>"
            ]
          },
          "execution_count": 17,
          "metadata": {},
          "output_type": "execute_result"
        }
      ],
      "source": [
        "pattern.search(txt)"
      ]
    },
    {
      "cell_type": "markdown",
      "metadata": {
        "id": "r0iFIVeT5KJ-"
      },
      "source": [
        "### Can we use 2 backslashes instead of 4 here?\n",
        "\n",
        "Yes. By using **raw-strings**, we do not need to put escapes at first level. \n",
        "\n",
        "> Python raw strings are represented as ***r\"your string\"***. In raw strings, no escaping is required as escape sequences like `\\n`, `\\t`, etc are not processed."
      ]
    },
    {
      "cell_type": "code",
      "execution_count": null,
      "metadata": {
        "id": "aEXsZeMf5KJ-"
      },
      "outputs": [],
      "source": [
        "pattern = re.compile(r\"C:\\\\Windows\\\\System32\")"
      ]
    },
    {
      "cell_type": "code",
      "execution_count": null,
      "metadata": {
        "id": "sHhMpnuY5KJ_",
        "outputId": "1d067558-69db-481f-b068-ea1a42952269"
      },
      "outputs": [
        {
          "data": {
            "text/plain": [
              "<re.Match object; span=(22, 41), match='C:\\\\Windows\\\\System32'>"
            ]
          },
          "execution_count": 19,
          "metadata": {},
          "output_type": "execute_result"
        }
      ],
      "source": [
        "pattern.search(txt)"
      ]
    },
    {
      "cell_type": "markdown",
      "metadata": {
        "id": "ks71c8-f5KJ_"
      },
      "source": [
        "### Do we really need to use 2 backslashes?\n",
        "\n",
        "If you are **not using any metacharacters** in your regex pattern, you can use `re.escape()` method to escape all the characters in pattern except ASCII letters, numbers and '_'."
      ]
    },
    {
      "cell_type": "code",
      "execution_count": null,
      "metadata": {
        "id": "jGkgX2x95KJ_",
        "outputId": "fcbfcd3c-c1dc-4cb8-8882-6f83540ccff5"
      },
      "outputs": [
        {
          "data": {
            "text/plain": [
              "'C:\\\\\\\\Windows\\\\\\\\System32'"
            ]
          },
          "execution_count": 20,
          "metadata": {},
          "output_type": "execute_result"
        }
      ],
      "source": [
        "re.escape(\"C:\\Windows\\System32\")"
      ]
    },
    {
      "cell_type": "code",
      "execution_count": null,
      "metadata": {
        "id": "8GTuDD8w5KJ_",
        "outputId": "d1f6b5fa-f464-4fe0-c002-1c7372b3dcd4"
      },
      "outputs": [
        {
          "data": {
            "text/plain": [
              "<re.Match object; span=(22, 41), match='C:\\\\Windows\\\\System32'>"
            ]
          },
          "execution_count": 21,
          "metadata": {},
          "output_type": "execute_result"
        }
      ],
      "source": [
        "re.search(re.escape(\"C:\\Windows\\System32\"), txt)"
      ]
    },
    {
      "cell_type": "markdown",
      "metadata": {
        "id": "s7gnld4c5KKA"
      },
      "source": []
    },
    {
      "cell_type": "markdown",
      "metadata": {
        "id": "8vOqROs25rc0"
      },
      "source": [
        "# Alteration\n",
        "\n",
        "Just like character classes are used to match a single character out of several possible characters, **alternation** is used to match a single regular expression out of several possible regular expressions.\n",
        "\n",
        "This is accomplished using the pipe symbol `|`.\n",
        "\n",
        "Consider a scenario where you want to find all occurances of `and`, `or`, `the` in a given text.\n",
        "\n",
        "> One way is to write and execute 3 separate regular expressions. Using alteration, it can be done in a single regular expression!"
      ]
    },
    {
      "cell_type": "code",
      "execution_count": null,
      "metadata": {
        "id": "RnyPLhx05rc1"
      },
      "outputs": [],
      "source": [
        "import re"
      ]
    },
    {
      "cell_type": "code",
      "execution_count": null,
      "metadata": {
        "id": "lE1morS95rc2"
      },
      "outputs": [],
      "source": [
        "txt = \"\"\"\n",
        "the most common conjunctions are and, or and but.\n",
        "\"\"\""
      ]
    },
    {
      "cell_type": "code",
      "execution_count": null,
      "metadata": {
        "id": "b_88QlO55rc3"
      },
      "outputs": [],
      "source": [
        "pattern = re.compile(\"and|or|the\")"
      ]
    },
    {
      "cell_type": "code",
      "execution_count": null,
      "metadata": {
        "id": "WtlygBHS5rc4",
        "outputId": "934ab310-489e-497e-9f33-eed121f29baa"
      },
      "outputs": [
        {
          "data": {
            "text/plain": [
              "['the', 'and', 'or', 'and']"
            ]
          },
          "execution_count": 4,
          "metadata": {},
          "output_type": "execute_result"
        }
      ],
      "source": [
        "pattern.findall(txt)"
      ]
    },
    {
      "cell_type": "code",
      "execution_count": null,
      "metadata": {
        "scrolled": true,
        "id": "wqooqmgi5rc5",
        "outputId": "56bd6119-3e77-4cf5-90f2-12a1e9579a6a"
      },
      "outputs": [
        {
          "name": "stdout",
          "output_type": "stream",
          "text": [
            "\n",
            "\u001b[43m\u001b[1mthe\u001b[0m most common conjunctions are \u001b[43m\u001b[1mand\u001b[0m, \u001b[43m\u001b[1mor\u001b[0m \u001b[43m\u001b[1mand\u001b[0m but.\n",
            "\n"
          ]
        }
      ],
      "source": [
        "from utils import highlight_regex_matches\n",
        "highlight_regex_matches(pattern, txt)"
      ]
    },
    {
      "cell_type": "markdown",
      "metadata": {
        "id": "eusvC_0x5rc5"
      },
      "source": [
        "Consider one more example now in which we want to search the substrings `What is` and `Who is`."
      ]
    },
    {
      "cell_type": "code",
      "execution_count": null,
      "metadata": {
        "id": "VMNjX8Kv5rc6"
      },
      "outputs": [],
      "source": [
        "txt = \"\"\"\n",
        "What is your name?\n",
        "Who is that guy?\n",
        "\"\"\""
      ]
    },
    {
      "cell_type": "code",
      "execution_count": null,
      "metadata": {
        "id": "T76z0Nla5rc6"
      },
      "outputs": [],
      "source": [
        "pattern = re.compile(\"What|Who is\")"
      ]
    },
    {
      "cell_type": "code",
      "execution_count": null,
      "metadata": {
        "id": "M4AT18Yx5rc7",
        "outputId": "c4a6b974-d18b-4788-ced0-819b04d7a7c6"
      },
      "outputs": [
        {
          "name": "stdout",
          "output_type": "stream",
          "text": [
            "\n",
            "\u001b[43m\u001b[1mWhat\u001b[0m is your name?\n",
            "\u001b[43m\u001b[1mWho is\u001b[0m that guy?\n",
            "\n"
          ]
        }
      ],
      "source": [
        "highlight_regex_matches(pattern, txt)"
      ]
    },
    {
      "cell_type": "markdown",
      "metadata": {
        "id": "Q2tfN-hg5rc7"
      },
      "source": [
        "`What|Who is` regex pattern actually matches substrings `What` and `Who is`.\n",
        "\n",
        "To get the desired result, we need to wrap the optional regular expressions using **paranthesis**."
      ]
    },
    {
      "cell_type": "code",
      "execution_count": null,
      "metadata": {
        "id": "Vx9tnymu5rc8"
      },
      "outputs": [],
      "source": [
        "pattern = re.compile(\"(What|Who) is\")"
      ]
    },
    {
      "cell_type": "code",
      "execution_count": null,
      "metadata": {
        "id": "Jiy6TbCb5rc8",
        "outputId": "411acc69-94ad-4ed9-af5e-086187b73acd"
      },
      "outputs": [
        {
          "name": "stdout",
          "output_type": "stream",
          "text": [
            "\n",
            "\u001b[43m\u001b[1mWhat is\u001b[0m your name?\n",
            "\u001b[43m\u001b[1mWho is\u001b[0m that guy?\n",
            "\n"
          ]
        }
      ],
      "source": [
        "highlight_regex_matches(pattern, txt)"
      ]
    },
    {
      "cell_type": "markdown",
      "metadata": {
        "id": "eTBCv4r85rc8"
      },
      "source": []
    },
    {
      "cell_type": "markdown",
      "metadata": {
        "id": "6XrlW0ZZ8K4K"
      },
      "source": [
        "# Quantifiers\n",
        "\n",
        "**Quantifiers** are the mechanisms to define how a **character**, **metacharacter**, or **character set** can be **repeated**.\n",
        "\n",
        "Here is the list of 4 basic quantifers:\n",
        "\n",
        "<table style=\"border: 1px solid black; font-size:15px;\">\n",
        "<thead>\n",
        "    <th>Symbol</th>\n",
        "    <th>Name</th>\n",
        "    <th>Quantification of previous character</th>\n",
        "</thead>\n",
        "    \n",
        "<tbody>\n",
        "<tr>\n",
        "    <td>?</td>\n",
        "    <td>Question Mark</td>\n",
        "    <td>Optional (0 or 1 repetitions)</td>\n",
        "</tr>\n",
        "    \n",
        "<tr>\n",
        "    <td>*</td>\n",
        "    <td>Asterisk</td>\n",
        "    <td>Zero or more times</td>\n",
        "</tr>\n",
        "\n",
        "<tr>\n",
        "    <td>+</td>\n",
        "    <td>Plus Sign</td>\n",
        "    <td>One or more times</td>\n",
        "</tr>\n",
        "\n",
        "<tr>\n",
        "    <td>{n,m}</td>\n",
        "    <td>Curly Braces</td>\n",
        "    <td>Between n and m times</td>\n",
        "</tr>\n",
        "</tbody>\n",
        "</table>\n",
        "\n",
        "\n",
        "Let us go through different examples to understand them one by one.\n",
        "\n",
        "### Example 1\n",
        "\n",
        "Find all the matches for `dog` and `dogs` in the given text."
      ]
    },
    {
      "cell_type": "code",
      "execution_count": null,
      "metadata": {
        "id": "N5Ctg_C68K4M"
      },
      "outputs": [],
      "source": [
        "import re"
      ]
    },
    {
      "cell_type": "code",
      "execution_count": null,
      "metadata": {
        "id": "qSek1baw8K4N"
      },
      "outputs": [],
      "source": [
        "txt = \"\"\"\n",
        "I have 2 dogs. One dog is 1 year old and other one is 2 years old. Both dogs are very cute! \n",
        "\"\"\""
      ]
    },
    {
      "cell_type": "code",
      "execution_count": null,
      "metadata": {
        "id": "kurI1LYO8K4N"
      },
      "outputs": [],
      "source": [
        "pattern = re.compile(\"dogs?\")"
      ]
    },
    {
      "cell_type": "code",
      "execution_count": null,
      "metadata": {
        "id": "g6i7Y1tZ8K4O",
        "outputId": "c3a06d13-1587-4f9f-98d7-32fd13496874"
      },
      "outputs": [
        {
          "data": {
            "text/plain": [
              "['dogs', 'dog', 'dogs']"
            ]
          },
          "execution_count": 4,
          "metadata": {},
          "output_type": "execute_result"
        }
      ],
      "source": [
        "pattern.findall(txt)"
      ]
    },
    {
      "cell_type": "code",
      "execution_count": null,
      "metadata": {
        "id": "yxHnzWKs8K4P",
        "outputId": "1ad17dc2-06f3-4080-9cc0-3ddbea715ea8"
      },
      "outputs": [
        {
          "name": "stdout",
          "output_type": "stream",
          "text": [
            "\n",
            "I have 2 \u001b[43m\u001b[1mdogs\u001b[0m. One \u001b[43m\u001b[1mdog\u001b[0m is 1 year old and other one is 2 years old. Both \u001b[43m\u001b[1mdogs\u001b[0m are very cute! \n",
            "\n"
          ]
        }
      ],
      "source": [
        "from utils import highlight_regex_matches\n",
        "highlight_regex_matches(pattern, txt)"
      ]
    },
    {
      "cell_type": "markdown",
      "metadata": {
        "id": "LHiKcxtD8K4P"
      },
      "source": [
        "### Example 2\n",
        "\n",
        "Find all filenames starting with `file` and ending with `.txt` in the given text."
      ]
    },
    {
      "cell_type": "code",
      "execution_count": null,
      "metadata": {
        "id": "mojnc4qm8K4Q"
      },
      "outputs": [],
      "source": [
        "txt = \"\"\"\n",
        "file1.txt\n",
        "file_one.txt\n",
        "file.txt\n",
        "fil.txt\n",
        "file.xml\n",
        "file-1.txt\n",
        "\"\"\""
      ]
    },
    {
      "cell_type": "code",
      "execution_count": null,
      "metadata": {
        "id": "f2lbc97F8K4R"
      },
      "outputs": [],
      "source": [
        "pattern = re.compile(\"file[\\w-]*\\.txt\")"
      ]
    },
    {
      "cell_type": "code",
      "execution_count": null,
      "metadata": {
        "id": "zCkKMOam8K4R",
        "outputId": "55dad3fd-55fb-46c3-b390-fa918afe96bc"
      },
      "outputs": [
        {
          "data": {
            "text/plain": [
              "['file1.txt', 'file_one.txt', 'file.txt', 'file-1.txt']"
            ]
          },
          "execution_count": 8,
          "metadata": {},
          "output_type": "execute_result"
        }
      ],
      "source": [
        "pattern.findall(txt)"
      ]
    },
    {
      "cell_type": "code",
      "execution_count": null,
      "metadata": {
        "id": "IlB1RPH28K4R",
        "outputId": "09aadc1a-be62-464f-d583-dc00bb2ec46a"
      },
      "outputs": [
        {
          "name": "stdout",
          "output_type": "stream",
          "text": [
            "\n",
            "\u001b[43m\u001b[1mfile1.txt\u001b[0m\n",
            "\u001b[43m\u001b[1mfile_one.txt\u001b[0m\n",
            "\u001b[43m\u001b[1mfile.txt\u001b[0m\n",
            "fil.txt\n",
            "file.xml\n",
            "\u001b[43m\u001b[1mfile-1.txt\u001b[0m\n",
            "\n"
          ]
        }
      ],
      "source": [
        "highlight_regex_matches(pattern, txt)"
      ]
    },
    {
      "cell_type": "markdown",
      "metadata": {
        "id": "Gfc7LFcY8K4S"
      },
      "source": [
        "### Example 3\n",
        "\n",
        "Find all filenames starting with `file` followed by 1 or more digits and ending with `.txt` in the given text."
      ]
    },
    {
      "cell_type": "code",
      "execution_count": null,
      "metadata": {
        "id": "5neU_PKT8K4S"
      },
      "outputs": [],
      "source": [
        "txt = \"\"\"\n",
        "file1.txt\n",
        "file_one.txt\n",
        "file09.txt\n",
        "fil.txt\n",
        "file23.xml\n",
        "file.txt\n",
        "\"\"\""
      ]
    },
    {
      "cell_type": "code",
      "execution_count": null,
      "metadata": {
        "id": "QVbJVLxj8K4S"
      },
      "outputs": [],
      "source": [
        "pattern = re.compile(\"file\\d+\\.txt\")"
      ]
    },
    {
      "cell_type": "code",
      "execution_count": null,
      "metadata": {
        "id": "vcND77rC8K4T",
        "outputId": "9251d08d-7c54-47d0-9797-aedab26c1a0b"
      },
      "outputs": [
        {
          "data": {
            "text/plain": [
              "['file1.txt', 'file09.txt']"
            ]
          },
          "execution_count": 12,
          "metadata": {},
          "output_type": "execute_result"
        }
      ],
      "source": [
        "pattern.findall(txt)"
      ]
    },
    {
      "cell_type": "code",
      "execution_count": null,
      "metadata": {
        "id": "dmDMbNAA8K4T",
        "outputId": "ca94b6d5-ac41-4058-df6f-486acdca67cf"
      },
      "outputs": [
        {
          "name": "stdout",
          "output_type": "stream",
          "text": [
            "\n",
            "\u001b[43m\u001b[1mfile1.txt\u001b[0m\n",
            "file_one.txt\n",
            "\u001b[43m\u001b[1mfile09.txt\u001b[0m\n",
            "fil.txt\n",
            "file23.xml\n",
            "file.txt\n",
            "\n"
          ]
        }
      ],
      "source": [
        "highlight_regex_matches(pattern, txt)"
      ]
    },
    {
      "cell_type": "markdown",
      "metadata": {
        "id": "pb78nNNN8K4T"
      },
      "source": [
        "We can use the curly brackets syntax here with these modifications:\n",
        "\n",
        "<table style=\"border: 1px solid black; font-size:15px;\">\n",
        "<thead>\n",
        "    <th>Syntax</th>\n",
        "    <th>Description</th>\n",
        "</thead>\n",
        "    \n",
        "<tbody>\n",
        "<tr>\n",
        "    <td>{n}</td>\n",
        "    <td>The previous character is repeated exactly n times.</td>\n",
        "</tr>\n",
        "    \n",
        "<tr>\n",
        "    <td>{n,}</td>\n",
        "    <td>The previous character is repeated at least n times.</td>\n",
        "</tr>\n",
        "\n",
        "<tr>\n",
        "    <td>{,n}</td>\n",
        "    <td>The previous character is repeated at most n times.</td>\n",
        "</tr>\n",
        "\n",
        "<tr>\n",
        "    <td>{n,m}</td>\n",
        "    <td>The previous character is repeated between n and m times (both inclusive).</td>\n",
        "</tr>\n",
        "</tbody>\n",
        "</table>\n",
        "\n",
        "### Example 4\n",
        "\n",
        "Find years in the given text.\n"
      ]
    },
    {
      "cell_type": "code",
      "execution_count": null,
      "metadata": {
        "id": "iklMQgbU8K4U"
      },
      "outputs": [],
      "source": [
        "txt = \"\"\"\n",
        "The first season of Indian Premiere League (IPL) was played in 2008. \n",
        "The second season was played in 2009 in South Africa. \n",
        "Last season was played in 2018 and won by Chennai Super Kings (CSK).\n",
        "CSK won the title in 2010 and 2011 as well.\n",
        "Mumbai Indians (MI) has also won the title 3 times in 2013, 2015 and 2017.\n",
        "\"\"\""
      ]
    },
    {
      "cell_type": "code",
      "execution_count": null,
      "metadata": {
        "id": "nDEm69Oa8K4U"
      },
      "outputs": [],
      "source": [
        "pattern = re.compile(\"\\d{4}\")"
      ]
    },
    {
      "cell_type": "code",
      "execution_count": null,
      "metadata": {
        "id": "BZ761BFL8K4U",
        "outputId": "9da6cd23-cf39-4f0d-a36a-3e3035300292"
      },
      "outputs": [
        {
          "data": {
            "text/plain": [
              "['2008', '2009', '2018', '2010', '2011', '2013', '2015', '2017']"
            ]
          },
          "execution_count": 16,
          "metadata": {},
          "output_type": "execute_result"
        }
      ],
      "source": [
        "pattern.findall(txt)"
      ]
    },
    {
      "cell_type": "markdown",
      "metadata": {
        "id": "Qg1qCR_R8K4U"
      },
      "source": [
        "### Example 5\n",
        "\n",
        "In the given text, filter out all 4 or more digit numbers."
      ]
    },
    {
      "cell_type": "code",
      "execution_count": null,
      "metadata": {
        "id": "XRrC8yOY8K4V"
      },
      "outputs": [],
      "source": [
        "txt = \"\"\"\n",
        "123143\n",
        "432\n",
        "5657\n",
        "4435\n",
        "54\n",
        "65111\n",
        "\"\"\""
      ]
    },
    {
      "cell_type": "code",
      "execution_count": null,
      "metadata": {
        "id": "0dr-nmlZ8K4V"
      },
      "outputs": [],
      "source": [
        "pattern = re.compile(\"\\d{4,}\")"
      ]
    },
    {
      "cell_type": "code",
      "execution_count": null,
      "metadata": {
        "id": "vyMM2xMI8K4V",
        "outputId": "c86e8f78-ed27-42ef-f78f-2e514fd0f639"
      },
      "outputs": [
        {
          "data": {
            "text/plain": [
              "['123143', '5657', '4435', '65111']"
            ]
          },
          "execution_count": 19,
          "metadata": {},
          "output_type": "execute_result"
        }
      ],
      "source": [
        "re.findall(pattern, txt)"
      ]
    },
    {
      "cell_type": "markdown",
      "metadata": {
        "id": "yDTAUyJ48K4V"
      },
      "source": [
        "### Example 6\n",
        "\n",
        "Write a pattern to validate telephone numbers.\n",
        "\n",
        "Telephone numbers can be of the form: `555-555-5555`, `555 555 5555`, `5555555555`"
      ]
    },
    {
      "cell_type": "code",
      "execution_count": null,
      "metadata": {
        "id": "UR9VkBUo8K4W"
      },
      "outputs": [],
      "source": [
        "txt = \"\"\"\n",
        "555-555-5555\n",
        "555 555 5555\n",
        "5555555555\n",
        "\"\"\""
      ]
    },
    {
      "cell_type": "code",
      "execution_count": null,
      "metadata": {
        "id": "FW_a8UM28K4W"
      },
      "outputs": [],
      "source": [
        "pattern = re.compile(\"\\d{3}[-\\s]?\\d{3}[-\\s]?\\d{4}\")"
      ]
    },
    {
      "cell_type": "code",
      "execution_count": null,
      "metadata": {
        "id": "FZ13EZQL8K4W",
        "outputId": "75698c0f-f87a-48d6-d093-eb145da52351"
      },
      "outputs": [
        {
          "data": {
            "text/plain": [
              "['555-555-5555', '555 555 5555', '5555555555']"
            ]
          },
          "execution_count": 22,
          "metadata": {},
          "output_type": "execute_result"
        }
      ],
      "source": [
        "pattern.findall(txt)"
      ]
    },
    {
      "cell_type": "markdown",
      "metadata": {
        "id": "CddXXW848K4W"
      },
      "source": [
        "![](images/memes/meme12.jpg)"
      ]
    },
    {
      "cell_type": "markdown",
      "metadata": {
        "id": "WYyCoabX8NwI"
      },
      "source": [
        "# Greedy Behaviour\n",
        "\n",
        "Let's consider an example."
      ]
    },
    {
      "cell_type": "code",
      "execution_count": null,
      "metadata": {
        "id": "3SY7jqRc8NwJ"
      },
      "outputs": [],
      "source": [
        "import re"
      ]
    },
    {
      "cell_type": "code",
      "execution_count": null,
      "metadata": {
        "id": "IT50P-dH8NwK"
      },
      "outputs": [],
      "source": [
        "txt = \"\"\"<html><head><title>Title</title>\"\"\""
      ]
    },
    {
      "cell_type": "code",
      "execution_count": null,
      "metadata": {
        "id": "tfPhIo0K8NwL"
      },
      "outputs": [],
      "source": [
        "pattern = re.compile(\"<.*>\")"
      ]
    },
    {
      "cell_type": "code",
      "execution_count": null,
      "metadata": {
        "scrolled": true,
        "id": "etBEJV6k8NwL",
        "outputId": "c8f99e7d-c50c-4bec-832d-a9df467bcf5a"
      },
      "outputs": [
        {
          "data": {
            "text/plain": [
              "['<html><head><title>Title</title>']"
            ]
          },
          "execution_count": 5,
          "metadata": {},
          "output_type": "execute_result"
        }
      ],
      "source": [
        "pattern.findall(txt)"
      ]
    },
    {
      "cell_type": "markdown",
      "metadata": {
        "id": "1GLDWQWJ8NwM"
      },
      "source": [
        "In above example, one may expect to get 4 matches, i.e. `<html>`, `<head>`, `<title>` and `</title>`. Instead, we get the longest match, i.e. `<html><head><title>Title</title>`.\n",
        "\n",
        "This particular behaviour (to find longest match) is called **greedy** behaviour.\n",
        "\n",
        "> The greedy behavior of the quantifiers is applied by default in the quantifiers. A greedy quantifier will try to match as much as possible to have the biggest match result possible.\n",
        "\n",
        "# Non-Greedy behaviour\n",
        "\n",
        "The **non-greedy** (or **reluctant**) behaviour can be requested by adding an extra question mark to the quantifier.\n",
        "\n",
        "For example, `??`, `*?` or `+?`. \n",
        "\n",
        "> A quantifier marked as reluctant will behave like the exact opposite of the greedy ones. They will try to have the smallest match possible."
      ]
    },
    {
      "cell_type": "code",
      "execution_count": null,
      "metadata": {
        "id": "lNdDOJA78NwN"
      },
      "outputs": [],
      "source": [
        "pattern = re.compile(\"<.*?>\")"
      ]
    },
    {
      "cell_type": "code",
      "execution_count": null,
      "metadata": {
        "scrolled": true,
        "id": "8ZsA_JtS8NwN",
        "outputId": "b784d9bc-83a2-4022-e6b3-a20cd42868bc"
      },
      "outputs": [
        {
          "data": {
            "text/plain": [
              "['<html>', '<head>', '<title>', '</title>']"
            ]
          },
          "execution_count": 7,
          "metadata": {},
          "output_type": "execute_result"
        }
      ],
      "source": [
        "pattern.findall(txt)"
      ]
    },
    {
      "cell_type": "markdown",
      "metadata": {
        "id": "fgp6lvrG8NwO"
      },
      "source": []
    },
    {
      "cell_type": "markdown",
      "metadata": {
        "id": "uI-urLni8Oqw"
      },
      "source": [
        "# Boundary Matchers\n",
        "\n",
        "Consider a scenario where you want to find all occurances of `and`, `or` and `the` in the given text."
      ]
    },
    {
      "cell_type": "code",
      "execution_count": null,
      "metadata": {
        "id": "ddmGRzXw8Oqw"
      },
      "outputs": [],
      "source": [
        "import re\n",
        "from utils import highlight_regex_matches"
      ]
    },
    {
      "cell_type": "code",
      "execution_count": null,
      "metadata": {
        "id": "yaXywsm_8Oqx"
      },
      "outputs": [],
      "source": [
        "txt = \"\"\"\n",
        "Lorem Ipsum is simply dummy text of the printing and typesetting industry. \n",
        "Lorem Ipsum has been the industry's standard dummy text ever since the 1500s, \n",
        "when an unknown printer took a galley of type and scrambled it to make a type specimen book. \n",
        "It has survived not only five centuries, but also the leap into electronic typesetting, \n",
        "remaining essentially unchanged. \n",
        "It was popularised in the 1960s with the release of Letraset sheets containing Lorem Ipsum passages, \n",
        "and more recently with desktop publishing software like Aldus PageMaker including versions of Lorem Ipsum.\n",
        "\"\"\""
      ]
    },
    {
      "cell_type": "code",
      "execution_count": null,
      "metadata": {
        "id": "4Y3-FOLV8Oqy"
      },
      "outputs": [],
      "source": [
        "pattern = re.compile(\"and|or|the\")"
      ]
    },
    {
      "cell_type": "code",
      "execution_count": null,
      "metadata": {
        "id": "GB3UDIOa8Oqy",
        "outputId": "e2997c69-7265-4e9a-e45d-bec529b2ed3a"
      },
      "outputs": [
        {
          "data": {
            "text/plain": [
              "['or',\n",
              " 'the',\n",
              " 'and',\n",
              " 'or',\n",
              " 'the',\n",
              " 'and',\n",
              " 'the',\n",
              " 'and',\n",
              " 'the',\n",
              " 'the',\n",
              " 'the',\n",
              " 'or',\n",
              " 'and',\n",
              " 'or',\n",
              " 'or']"
            ]
          },
          "execution_count": 4,
          "metadata": {},
          "output_type": "execute_result"
        }
      ],
      "source": [
        "pattern.findall(txt)"
      ]
    },
    {
      "cell_type": "code",
      "execution_count": null,
      "metadata": {
        "id": "c-ruDAkO8Oqz",
        "outputId": "d3c0abae-36c1-4035-d211-e36470b975d0"
      },
      "outputs": [
        {
          "name": "stdout",
          "output_type": "stream",
          "text": [
            "\n",
            "L\u001b[43m\u001b[1mor\u001b[0mem Ipsum is simply dummy text of \u001b[43m\u001b[1mthe\u001b[0m printing \u001b[43m\u001b[1mand\u001b[0m typesetting industry. \n",
            "L\u001b[43m\u001b[1mor\u001b[0mem Ipsum has been \u001b[43m\u001b[1mthe\u001b[0m industry's st\u001b[43m\u001b[1mand\u001b[0mard dummy text ever since \u001b[43m\u001b[1mthe\u001b[0m 1500s, \n",
            "when an unknown printer took a galley of type \u001b[43m\u001b[1mand\u001b[0m scrambled it to make a type specimen book. \n",
            "It has survived not only five centuries, but also \u001b[43m\u001b[1mthe\u001b[0m leap into electronic typesetting, \n",
            "remaining essentially unchanged. \n",
            "It was popularised in \u001b[43m\u001b[1mthe\u001b[0m 1960s with \u001b[43m\u001b[1mthe\u001b[0m release of Letraset sheets containing L\u001b[43m\u001b[1mor\u001b[0mem Ipsum passages, \n",
            "\u001b[43m\u001b[1mand\u001b[0m m\u001b[43m\u001b[1mor\u001b[0me recently with desktop publishing software like Aldus PageMaker including versions of L\u001b[43m\u001b[1mor\u001b[0mem Ipsum.\n",
            "\n"
          ]
        }
      ],
      "source": [
        "highlight_regex_matches(pattern, txt)"
      ]
    },
    {
      "cell_type": "markdown",
      "metadata": {
        "id": "FE1iUxzq8Oqz"
      },
      "source": [
        "There is a slight problem with the above pattern. `and`, `or`, `the` inside the words are also counted as a match where as we want to find individual strings containing `and`, `or`, `the` only.\n",
        "\n",
        "### What is the solution?\n",
        "\n",
        "Solution is to use this pattern:\n",
        "\n",
        "`\\b(and|or|the)\\b`\n",
        "\n",
        "where `\\b` is a metacharacter that matches at a position that is called a **word boundary**. \n",
        "\n",
        "Such identifiers that correspond to a particular position inside of the input are called **Boundary Matchers**.\n",
        "\n",
        "**Note:** Since `\\b` is also an escape sequence for strings in Python, we need to escape it using `\\`, i.e. `\\\\b`,  in order to treat it like a metacharacter for regex matching."
      ]
    },
    {
      "cell_type": "code",
      "execution_count": null,
      "metadata": {
        "id": "u0MRFox18Oqz"
      },
      "outputs": [],
      "source": [
        "pattern = re.compile(\"\\\\b(and|or|the)\\\\b\")"
      ]
    },
    {
      "cell_type": "code",
      "execution_count": null,
      "metadata": {
        "id": "3RqAsdnf8Oq0",
        "outputId": "7b0fbfd0-5509-4fe3-9407-2c06b25ec1da"
      },
      "outputs": [
        {
          "name": "stdout",
          "output_type": "stream",
          "text": [
            "\n",
            "Lorem Ipsum is simply dummy text of \u001b[43m\u001b[1mthe\u001b[0m printing \u001b[43m\u001b[1mand\u001b[0m typesetting industry. \n",
            "Lorem Ipsum has been \u001b[43m\u001b[1mthe\u001b[0m industry's standard dummy text ever since \u001b[43m\u001b[1mthe\u001b[0m 1500s, \n",
            "when an unknown printer took a galley of type \u001b[43m\u001b[1mand\u001b[0m scrambled it to make a type specimen book. \n",
            "It has survived not only five centuries, but also \u001b[43m\u001b[1mthe\u001b[0m leap into electronic typesetting, \n",
            "remaining essentially unchanged. \n",
            "It was popularised in \u001b[43m\u001b[1mthe\u001b[0m 1960s with \u001b[43m\u001b[1mthe\u001b[0m release of Letraset sheets containing Lorem Ipsum passages, \n",
            "\u001b[43m\u001b[1mand\u001b[0m more recently with desktop publishing software like Aldus PageMaker including versions of Lorem Ipsum.\n",
            "\n"
          ]
        }
      ],
      "source": [
        "highlight_regex_matches(pattern, txt)"
      ]
    },
    {
      "cell_type": "markdown",
      "metadata": {
        "id": "C-8Yxyw48Oq0"
      },
      "source": [
        "Here is a table which shows the list of all boundary matchers available in Python:\n",
        "\n",
        "<table style=\"border: 1px solid black; font-size:15px;\">\n",
        "<thead>\n",
        "    <th>Matcher</th>\n",
        "    <th>Description</th>\n",
        "</thead>\n",
        "    \n",
        "<tbody>\n",
        "<tr>\n",
        "    <td>^</td>\n",
        "    <td>Matches at the beginning of a line</td>\n",
        "</tr>\n",
        "    \n",
        "<tr>\n",
        "    <td>$</td>\n",
        "    <td>Matches at the end of a line</td>\n",
        "</tr>\n",
        "\n",
        "<tr>\n",
        "    <td>\\b</td>\n",
        "    <td>Matches a word boundary</td>\n",
        "</tr>\n",
        "\n",
        "<tr>\n",
        "    <td>\\B</td>\n",
        "    <td>Matches the opposite of \\b. Anything that is not a word boundary</td>\n",
        "</tr>\n",
        "\n",
        "<tr>\n",
        "    <td>\\A</td>\n",
        "    <td>Matches the beginning of the input</td>\n",
        "</tr>\n",
        "\n",
        "<tr>\n",
        "    <td>\\Z</td>\n",
        "    <td>Matches the end of the input</td>\n",
        "</tr>\n",
        "</tbody>\n",
        "</table>\n",
        "\n",
        "### Example 1\n",
        "\n",
        "Consider a scenario where we want to find all the lines in the given text which **start** with the pattern `Name:`."
      ]
    },
    {
      "cell_type": "code",
      "execution_count": null,
      "metadata": {
        "id": "etFgkVJ78Oq0"
      },
      "outputs": [],
      "source": [
        "txt = \"\"\"\n",
        "Name:\n",
        "Age: 0\n",
        "Roll No.: 15\n",
        "Grade: S\n",
        "\n",
        "Name: Ravi\n",
        "Age: -1\n",
        "Roll No.: 123 Name: ABC\n",
        "Grade: K\n",
        "\n",
        "Name: Ram\n",
        "Age: N/A\n",
        "Roll No.: 1\n",
        "Grade: G\n",
        "\"\"\""
      ]
    },
    {
      "cell_type": "code",
      "execution_count": null,
      "metadata": {
        "id": "aTsNR8Zk8Oq1"
      },
      "outputs": [],
      "source": [
        "pattern = re.compile(\"^Name: \\w+\", flags=re.M)"
      ]
    },
    {
      "cell_type": "code",
      "execution_count": null,
      "metadata": {
        "id": "kJu9Skyp8Oq1",
        "outputId": "a0a069b5-1ed1-46dd-c103-f0c4b8d43a92"
      },
      "outputs": [
        {
          "data": {
            "text/plain": [
              "['Name: Ravi', 'Name: Ram']"
            ]
          },
          "execution_count": 10,
          "metadata": {},
          "output_type": "execute_result"
        }
      ],
      "source": [
        "pattern.findall(txt)"
      ]
    },
    {
      "cell_type": "markdown",
      "metadata": {
        "id": "6zLBcF428Oq1"
      },
      "source": [
        "> `re.M` (short for `re.MULTILINE`) is a flag which is used to make begin/end `(^, $)` consider each line.\n",
        "\n",
        "### Example 2\n",
        "\n",
        "Find all the sentences which do not end with a full stop (`.`) in the given text."
      ]
    },
    {
      "cell_type": "code",
      "execution_count": null,
      "metadata": {
        "id": "N-MiXSf18Oq1"
      },
      "outputs": [],
      "source": [
        "txt = \"\"\"\n",
        "Lorem Ipsum is simply dummy text of the printing and typesetting industry.\n",
        "Lorem Ipsum has been the industry's standard dummy text ever since the 1500s!\n",
        "It has survived not only five centuries, but also the leap into electronic typesetting, remaining essentially unchanged.\n",
        "It was popularised in the 1960s with the release of Letraset sheets containing Lorem Ipsum passages\n",
        "More recently with desktop publishing software like Aldus PageMaker including versions of Lorem Ipsum.\"\"\""
      ]
    },
    {
      "cell_type": "code",
      "execution_count": null,
      "metadata": {
        "id": "12-pmL1s8Oq2"
      },
      "outputs": [],
      "source": [
        "pattern = re.compile(\"^.+[^\\.]$\", flags=re.M)"
      ]
    },
    {
      "cell_type": "code",
      "execution_count": null,
      "metadata": {
        "id": "rBhk0F5y8Oq2",
        "outputId": "d3574db9-1f48-4203-cb6a-d379300599e5"
      },
      "outputs": [
        {
          "data": {
            "text/plain": [
              "[\"Lorem Ipsum has been the industry's standard dummy text ever since the 1500s!\",\n",
              " 'It was popularised in the 1960s with the release of Letraset sheets containing Lorem Ipsum passages']"
            ]
          },
          "execution_count": 13,
          "metadata": {},
          "output_type": "execute_result"
        }
      ],
      "source": [
        "pattern.findall(txt)"
      ]
    },
    {
      "cell_type": "code",
      "execution_count": null,
      "metadata": {
        "id": "MtTrqjoP8Oq2",
        "outputId": "18d8ca10-e120-49ab-9932-c12fda06d478"
      },
      "outputs": [
        {
          "name": "stdout",
          "output_type": "stream",
          "text": [
            "\n",
            "Lorem Ipsum is simply dummy text of the printing and typesetting industry.\n",
            "\u001b[43m\u001b[1mLorem Ipsum has been the industry's standard dummy text ever since the 1500s!\u001b[0m\n",
            "It has survived not only five centuries, but also the leap into electronic typesetting, remaining essentially unchanged.\n",
            "\u001b[43m\u001b[1mIt was popularised in the 1960s with the release of Letraset sheets containing Lorem Ipsum passages\u001b[0m\n",
            "More recently with desktop publishing software like Aldus PageMaker including versions of Lorem Ipsum.\n"
          ]
        }
      ],
      "source": [
        "highlight_regex_matches(pattern, txt)"
      ]
    },
    {
      "cell_type": "markdown",
      "metadata": {
        "id": "qLyn3TON8Oq2"
      },
      "source": []
    },
    {
      "cell_type": "markdown",
      "metadata": {
        "id": "RkFFWp9K8Qd3"
      },
      "source": [
        "# Split using RegEx\n",
        "\n",
        "> In almost every language, you can find the split operation in strings. The big difference is that the split in the `re` module is more powerful due to which you can use a regex. So, in this case, the string is split based on the matches of the pattern.\n",
        "\n",
        "### `split(string[, maxsplit])`\n",
        "\n",
        "- Every pattern object has a `split()` method which splits the input string at all positions where a match is found.\n",
        "\n",
        "- `maxsplit` is an optional argument (default value 0) which specifies the max no. of splits that can take place. `0` value means there is no limit on the no. of splits.\n",
        "\n",
        "- Pattern match is not included in any of the substrings obtained after splitting.\n",
        "\n",
        "#### Example 1\n",
        "\n",
        "Let us try to split a string to get individual lines in it."
      ]
    },
    {
      "cell_type": "code",
      "execution_count": null,
      "metadata": {
        "id": "tWiOBpd18Qd4"
      },
      "outputs": [],
      "source": [
        "import re"
      ]
    },
    {
      "cell_type": "code",
      "execution_count": null,
      "metadata": {
        "id": "LKAZhJy58Qd5"
      },
      "outputs": [],
      "source": [
        "txt = \"\"\"Beautiful is better than ugly.\n",
        "Explicit is better than implicit.\n",
        "Simple is better than complex.\n",
        "Complex is better than complicated.\"\"\""
      ]
    },
    {
      "cell_type": "code",
      "execution_count": null,
      "metadata": {
        "id": "yV3VrQ9C8Qd6"
      },
      "outputs": [],
      "source": [
        "pattern = re.compile(\"\\n\")"
      ]
    },
    {
      "cell_type": "code",
      "execution_count": null,
      "metadata": {
        "id": "Dg2t8DqY8Qd6",
        "outputId": "2a409d55-04d4-4fcb-b298-275972c92e5b"
      },
      "outputs": [
        {
          "data": {
            "text/plain": [
              "['Beautiful is better than ugly.',\n",
              " 'Explicit is better than implicit.',\n",
              " 'Simple is better than complex.',\n",
              " 'Complex is better than complicated.']"
            ]
          },
          "execution_count": 4,
          "metadata": {},
          "output_type": "execute_result"
        }
      ],
      "source": [
        "pattern.split(txt)"
      ]
    },
    {
      "cell_type": "markdown",
      "metadata": {
        "id": "8H3B6ZxR8Qd6"
      },
      "source": [
        "#### Example 2\n",
        "\n",
        "Let us try one more example in which we want to get all the words in the given text."
      ]
    },
    {
      "cell_type": "code",
      "execution_count": null,
      "metadata": {
        "id": "x10hZnNC8Qd7"
      },
      "outputs": [],
      "source": [
        "pattern = re.compile(\"\\W\")"
      ]
    },
    {
      "cell_type": "code",
      "execution_count": null,
      "metadata": {
        "id": "P3SibStC8Qd7",
        "outputId": "e65ec531-499e-43ad-fd56-50fa3a385e4e"
      },
      "outputs": [
        {
          "data": {
            "text/plain": [
              "['Beautiful',\n",
              " 'is',\n",
              " 'better',\n",
              " 'than',\n",
              " 'ugly',\n",
              " '',\n",
              " 'Explicit',\n",
              " 'is',\n",
              " 'better',\n",
              " 'than',\n",
              " 'implicit',\n",
              " '',\n",
              " 'Simple',\n",
              " 'is',\n",
              " 'better',\n",
              " 'than',\n",
              " 'complex',\n",
              " '',\n",
              " 'Complex',\n",
              " 'is',\n",
              " 'better',\n",
              " 'than',\n",
              " 'complicated',\n",
              " '']"
            ]
          },
          "execution_count": 6,
          "metadata": {},
          "output_type": "execute_result"
        }
      ],
      "source": [
        "pattern.split(txt)"
      ]
    },
    {
      "cell_type": "markdown",
      "metadata": {
        "id": "Ska9SFKm8Qd7"
      },
      "source": [
        "#### Example 3\n",
        "\n",
        "What is we want only first 3 words? We need to split only 3 times in this case, which can be done by setting the value of `maxsplit` as 3."
      ]
    },
    {
      "cell_type": "code",
      "execution_count": null,
      "metadata": {
        "id": "nwRwmOEm8Qd7",
        "outputId": "ead43bbb-4476-44a0-8674-5c5e8816a7c5"
      },
      "outputs": [
        {
          "data": {
            "text/plain": [
              "['Beautiful',\n",
              " 'is',\n",
              " 'better',\n",
              " 'than ugly.\\nExplicit is better than implicit.\\nSimple is better than complex.\\nComplex is better than complicated.']"
            ]
          },
          "execution_count": 7,
          "metadata": {},
          "output_type": "execute_result"
        }
      ],
      "source": [
        "pattern.split(txt, maxsplit=3)"
      ]
    },
    {
      "cell_type": "markdown",
      "metadata": {
        "id": "mwxoUHkk8Qd8"
      },
      "source": [
        "![](images/memes/meme18.png)"
      ]
    },
    {
      "cell_type": "markdown",
      "metadata": {
        "id": "Lr7Af4X28Uty"
      },
      "source": [
        "# Substitution\n",
        "\n",
        "Now, we are going to look at a method which will replace all the **leftmost non-overlapping occurrences** of a pattern in a given string and return the new string as result.\n",
        "\n",
        "### `sub(repl, string[, count=0])`\n",
        "\n",
        "- `repl` is the replacement string which gets substituted in the place of match\n",
        "\n",
        "- `string` is the input text on which substitution takes place.\n",
        "\n",
        "- `count` is an optional argument (default is 0) which specifies the max no. of substitutions that can take place.  0 means there is no limit on substitution count.\n",
        "\n",
        "\n",
        "Let us consider a case where we want to replace all occurances of numbers with a `-` in the given text."
      ]
    },
    {
      "cell_type": "code",
      "execution_count": null,
      "metadata": {
        "id": "8muUFSUr8Utz"
      },
      "outputs": [],
      "source": [
        "import re"
      ]
    },
    {
      "cell_type": "code",
      "execution_count": null,
      "metadata": {
        "id": "5iRuPHsM8Ut0"
      },
      "outputs": [],
      "source": [
        "txt = \"100 cats, 23 dogs, 3 rabbits\""
      ]
    },
    {
      "cell_type": "code",
      "execution_count": null,
      "metadata": {
        "id": "O8D-lulZ8Ut0"
      },
      "outputs": [],
      "source": [
        "pattern = re.compile(\"\\d+\")"
      ]
    },
    {
      "cell_type": "code",
      "execution_count": null,
      "metadata": {
        "id": "62wrB1ro8Ut0",
        "outputId": "0725d93f-d94e-436d-dccc-6c3368cf0507"
      },
      "outputs": [
        {
          "data": {
            "text/plain": [
              "'- cats, - dogs, - rabbits'"
            ]
          },
          "execution_count": 4,
          "metadata": {},
          "output_type": "execute_result"
        }
      ],
      "source": [
        "pattern.sub(\"-\", txt)"
      ]
    },
    {
      "cell_type": "markdown",
      "metadata": {
        "id": "dE4kiJ-G8Ut1"
      },
      "source": [
        "### `subn(repl, string[, count=0])`\n",
        "\n",
        "- Returns the substituted string as well as the no. of substitutions.\n",
        "\n",
        "- Can be thought of as a utility function over `sub()`."
      ]
    },
    {
      "cell_type": "code",
      "execution_count": null,
      "metadata": {
        "id": "empWgVZr8Ut2",
        "outputId": "05ca0578-6ad3-4695-d9f1-a82a00dacfca"
      },
      "outputs": [
        {
          "data": {
            "text/plain": [
              "('- cats, - dogs, - rabbits', 3)"
            ]
          },
          "execution_count": 5,
          "metadata": {},
          "output_type": "execute_result"
        }
      ],
      "source": [
        "pattern.subn(\"-\", txt)"
      ]
    },
    {
      "cell_type": "markdown",
      "metadata": {
        "id": "-IQHcTtV8Ut3"
      },
      "source": [
        "![](images/memes/meme20.jpg)"
      ]
    },
    {
      "cell_type": "markdown",
      "metadata": {
        "id": "WO6MxKqT8q3p"
      },
      "source": [
        "# Compilation Flags\n",
        "\n",
        "- When compiling a pattern string into a pattern object, it's possible to **modify the standard behavior of the patterns** using **Compilation Flags**.\n",
        "\n",
        "- Multiple compilation flags can be combined using the bitwise OR \"|\".\n",
        "\n",
        "Here is a list of all the complation flags:\n",
        "\n",
        "<table style=\"border: 1px solid black; font-size:15px;\">\n",
        "<thead>\n",
        "    <th>Syntax</th>\n",
        "    <th>Meaning</th>\n",
        "</thead>\n",
        "    \n",
        "<tbody>\n",
        "<tr>\n",
        "    <td>re.IGNORECASE or re.I</td>\n",
        "    <td>ignore case.</td>\n",
        "</tr>\n",
        "\n",
        "<tr>\n",
        "    <td>re.MULTILINE or re.M</td>\n",
        "    <td>make begin/end boundary matchers (^, $) consider each line.</td>\n",
        "</tr>\n",
        "\n",
        "<tr>\n",
        "    <td>re.DOTALL or re.S</td>\n",
        "    <td>make . match newline too.</td>\n",
        "</tr>\n",
        "\n",
        "<tr>\n",
        "    <td>re.UNICODE or re.U</td>\n",
        "    <td>make {\\w, \\W, \\b, \\B} follow Unicode rules.</td>\n",
        "</tr>\n",
        "\n",
        "<tr>\n",
        "    <td>re.LOCALE or re.L</td>\n",
        "    <td>make {\\w, \\W, \\b, \\B} follow locale.</td>\n",
        "</tr>\n",
        "\n",
        "<tr>\n",
        "    <td>re.ASCII or re.A</td>\n",
        "    <td>make {\\w, \\W, \\b, \\B} perform ASCII-only matching.</td>\n",
        "</tr>\n",
        "\n",
        "<tr>\n",
        "    <td>re.VERBOSE or re.X</td>\n",
        "    <td>allow comment in regex.</td>\n",
        "</tr>\n",
        "\n",
        "<tr>\n",
        "    <td>re.DEBUG</td>\n",
        "    <td>get information about the compilation pattern.</td>\n",
        "</tr>\n",
        "</tbody>\n",
        "</table>\n",
        "\n",
        "Let's go through each one of them one by one.\n",
        "\n",
        "## 1. re.IGNORECASE or re.I\n",
        "\n",
        "This flag makes a regex pattern case-insensitive.\n",
        "\n",
        "\n",
        "Let's check out an example to find all occurances of `the` and `The` in the given text."
      ]
    },
    {
      "cell_type": "code",
      "execution_count": null,
      "metadata": {
        "id": "f9_g_noX8q3r"
      },
      "outputs": [],
      "source": [
        "import re\n",
        "from utils import highlight_regex_matches"
      ]
    },
    {
      "cell_type": "code",
      "execution_count": null,
      "metadata": {
        "id": "Mj9hMP698q3t"
      },
      "outputs": [],
      "source": [
        "txt = \"\"\"\n",
        "The best thing about regex is that it makes the task of string manipulation so easy.\n",
        "\"\"\""
      ]
    },
    {
      "cell_type": "code",
      "execution_count": null,
      "metadata": {
        "id": "T9bc4LMW8q3u"
      },
      "outputs": [],
      "source": [
        "pattern = re.compile(\"the\", flags=re.I)"
      ]
    },
    {
      "cell_type": "code",
      "execution_count": null,
      "metadata": {
        "id": "Hv8LO1GQ8q3v",
        "outputId": "7d37dc52-e54e-4b50-824c-12647493bece"
      },
      "outputs": [
        {
          "data": {
            "text/plain": [
              "re.compile(r'the', re.IGNORECASE|re.UNICODE)"
            ]
          },
          "execution_count": 4,
          "metadata": {},
          "output_type": "execute_result"
        }
      ],
      "source": [
        "pattern"
      ]
    },
    {
      "cell_type": "code",
      "execution_count": null,
      "metadata": {
        "id": "0DxPLcdM8q3x",
        "outputId": "f5c51264-5e07-4a03-aa4a-16fbb42cbb3c"
      },
      "outputs": [
        {
          "name": "stdout",
          "output_type": "stream",
          "text": [
            "\n",
            "\u001b[43m\u001b[1mThe\u001b[0m best thing about regex is that it makes \u001b[43m\u001b[1mthe\u001b[0m task of string manipulation so easy.\n",
            "\n"
          ]
        }
      ],
      "source": [
        "highlight_regex_matches(pattern, txt)"
      ]
    },
    {
      "cell_type": "markdown",
      "metadata": {
        "id": "s5lMZmyz8q3z"
      },
      "source": [
        "## 2. re.MULTILINE or re.M\n",
        "\n",
        "This flag is used to make begin/end boundary matchers (`^`, `$`) consider each line of the given text.\n",
        "\n",
        "\n",
        "Let's check out an example to find all lines starting with `A`.  "
      ]
    },
    {
      "cell_type": "code",
      "execution_count": null,
      "metadata": {
        "id": "yFEXujcP8q30"
      },
      "outputs": [],
      "source": [
        "txt = \"\"\"\n",
        "A man was crossing the road.\n",
        "Suddenly, a car passed before him in a very high speed.\n",
        "He was terrified\n",
        "And shocked.\n",
        "\"\"\""
      ]
    },
    {
      "cell_type": "code",
      "execution_count": null,
      "metadata": {
        "id": "wtTOOkY08q31"
      },
      "outputs": [],
      "source": [
        "pattern = re.compile(\"^A.+\", flags=re.M)"
      ]
    },
    {
      "cell_type": "code",
      "execution_count": null,
      "metadata": {
        "id": "HbLLnmt68q32",
        "outputId": "57857212-f406-493a-d3c4-05ba89c9f7b9"
      },
      "outputs": [
        {
          "name": "stdout",
          "output_type": "stream",
          "text": [
            "\n",
            "\u001b[43m\u001b[1mA man was crossing the road.\u001b[0m\n",
            "Suddenly, a car passed before him in a very high speed.\n",
            "He was terrified\n",
            "\u001b[43m\u001b[1mAnd shocked.\u001b[0m\n",
            "\n"
          ]
        }
      ],
      "source": [
        "highlight_regex_matches(pattern, txt)"
      ]
    },
    {
      "cell_type": "markdown",
      "metadata": {
        "id": "VVjT5eM_8q33"
      },
      "source": [
        "## 3. re.DOTALL or re.S\n",
        "\n",
        "The `.` metacharacter matches everything except newline character. If we want to make `.` match newline too, we have to set this flag.\n",
        "\n",
        "Let's consider an examle to match all the text after (and including) `car`."
      ]
    },
    {
      "cell_type": "code",
      "execution_count": null,
      "metadata": {
        "id": "Cv9wQI0g8q33"
      },
      "outputs": [],
      "source": [
        "pattern = re.compile(\"car.+\", flags=re.S)"
      ]
    },
    {
      "cell_type": "code",
      "execution_count": null,
      "metadata": {
        "id": "JnVFwn5H8q34",
        "outputId": "a1fda1a9-543d-45cf-baec-8780c4b65333"
      },
      "outputs": [
        {
          "name": "stdout",
          "output_type": "stream",
          "text": [
            "\n",
            "A man was crossing the road.\n",
            "Suddenly, a \u001b[43m\u001b[1mcar passed before him in a very high speed.\n",
            "He was terrified\n",
            "And shocked.\n",
            "\u001b[0m\n"
          ]
        }
      ],
      "source": [
        "highlight_regex_matches(pattern, txt)"
      ]
    },
    {
      "cell_type": "markdown",
      "metadata": {
        "id": "DG356VF68q35"
      },
      "source": [
        "## 4. re.UNICODE or re.U\n",
        "\n",
        "Using this flag, we can make the pattern characters `{\\w, \\W, \\b, \\B}` dependent on the Unicode character properties database.\n",
        "\n",
        "> re.UNICODE is the default flag in Python 3 regex patterns.\n",
        "\n",
        "Let's consider an example where we try to work on hindi language."
      ]
    },
    {
      "cell_type": "code",
      "execution_count": null,
      "metadata": {
        "id": "D7heTWYq8q35"
      },
      "outputs": [],
      "source": [
        "txt = \"मुझे किताबें पढ़ना बहुत पसंद है।\""
      ]
    },
    {
      "cell_type": "code",
      "execution_count": null,
      "metadata": {
        "id": "u78yETOd8q36"
      },
      "outputs": [],
      "source": [
        "pattern = re.compile(\"\\w+\")"
      ]
    },
    {
      "cell_type": "code",
      "execution_count": null,
      "metadata": {
        "id": "nsR3f7Vf8q36",
        "outputId": "13bc7eac-dafe-45e9-fa65-0fc324fbbf81"
      },
      "outputs": [
        {
          "data": {
            "text/plain": [
              "['म', 'झ', 'क', 'त', 'ब', 'पढ', 'न', 'बह', 'त', 'पस', 'द', 'ह']"
            ]
          },
          "execution_count": 13,
          "metadata": {},
          "output_type": "execute_result"
        }
      ],
      "source": [
        "pattern.findall(txt)"
      ]
    },
    {
      "cell_type": "markdown",
      "metadata": {
        "id": "FNZtCkkG8q37"
      },
      "source": [
        "[Solution](https://stackoverflow.com/questions/12746458/python-unicode-regular-expression-matching-failing-with-some-unicode-characters/12747529#12747529)"
      ]
    },
    {
      "cell_type": "code",
      "execution_count": null,
      "metadata": {
        "id": "iAFtrvX68q37"
      },
      "outputs": [],
      "source": [
        "import regex"
      ]
    },
    {
      "cell_type": "code",
      "execution_count": null,
      "metadata": {
        "id": "-snHBncr8q38"
      },
      "outputs": [],
      "source": [
        "pattern = regex.compile(\"\\w+\")"
      ]
    },
    {
      "cell_type": "code",
      "execution_count": null,
      "metadata": {
        "id": "Zh8-59Bb8q38",
        "outputId": "f1968a56-77d4-4173-c468-134c69b8daeb"
      },
      "outputs": [
        {
          "data": {
            "text/plain": [
              "['मुझे', 'किताबें', 'पढ़ना', 'बहुत', 'पसंद', 'है']"
            ]
          },
          "execution_count": 16,
          "metadata": {},
          "output_type": "execute_result"
        }
      ],
      "source": [
        "pattern.findall(txt)"
      ]
    },
    {
      "cell_type": "markdown",
      "metadata": {
        "id": "Gge6Aa-58q39"
      },
      "source": [
        "## 5. re.LOCALE or re.L\n",
        "\n",
        "> A locale is a set of environmental variables that defines the language, country, and character encoding settings (or any other special variant preferences) for your applications.\n",
        "\n",
        "This flag will make the word pattern `{\\w, \\W}` and boundary pattern `{\\b, \\B}`, dependent on the current locale. \n",
        "\n",
        "<span style=\"color:red;\">**The use of this flag is discouraged in Python 3 as the locale mechanism is very unreliable, it only handles one “culture” at a time, and it only works with 8-bit locales. Unicode matching is already enabled by default in Python 3 for Unicode (str) patterns, and it is able to handle different locales/languages.**</span>\n",
        "\n",
        "\n",
        "## 6. re.ASCII or re.A\n",
        "\n",
        "This flag will make the word pattern `{\\w, \\W}` and boundary pattern `{\\b, \\B}` perform ASCII-only matching, i.e. only A-Z, a-z, 0-9 will be considered alphanumeric characters. \n",
        "\n",
        "Let us see an example below:"
      ]
    },
    {
      "cell_type": "code",
      "execution_count": null,
      "metadata": {
        "id": "80S8ZR_w8q3-"
      },
      "outputs": [],
      "source": [
        "chars =  ''.join(chr(i) for i in range(256))"
      ]
    },
    {
      "cell_type": "code",
      "execution_count": null,
      "metadata": {
        "id": "i6Jmkw1u8q3-",
        "outputId": "6bb8ea35-6d00-4b59-9bef-cb23601acb9d"
      },
      "outputs": [
        {
          "name": "stdout",
          "output_type": "stream",
          "text": [
            "\u0000\u0001\u0002\u0003\u0004\u0005\u0006\u0007\b\t\n",
            "\u000b",
            "\f",
            "\r",
            "\u000e\u000f\u0010\u0011\u0012\u0013\u0014\u0015\u0016\u0017\u0018\u0019\u001a\u001b\u001c",
            "\u001d",
            "\u001e",
            "\u001f !\"#$%&'()*+,-./0123456789:;<=>?@ABCDEFGHIJKLMNOPQRSTUVWXYZ[\\]^_`abcdefghijklmnopqrstuvwxyz{|}~",
            " ¡¢£¤¥¦§¨©ª«¬­®¯°±²³´µ¶·¸¹º»¼½¾¿ÀÁÂÃÄÅÆÇÈÉÊËÌÍÎÏÐÑÒÓÔÕÖ×ØÙÚÛÜÝÞßàáâãäåæçèéêëìíîïðñòóôõö÷øùúûüýþÿ\n"
          ]
        }
      ],
      "source": [
        "print(chars)"
      ]
    },
    {
      "cell_type": "code",
      "execution_count": null,
      "metadata": {
        "id": "dpy9GFPY8q3_"
      },
      "outputs": [],
      "source": [
        "pattern = re.compile(\"\\w\")"
      ]
    },
    {
      "cell_type": "code",
      "execution_count": null,
      "metadata": {
        "id": "7iUnR0PS8q3_",
        "outputId": "ff047a52-0fb8-45fd-91a6-1b9c97179995"
      },
      "outputs": [
        {
          "name": "stdout",
          "output_type": "stream",
          "text": [
            "\u0000\u0001\u0002\u0003\u0004\u0005\u0006\u0007\b\t\n",
            "\u000b",
            "\f",
            "\r",
            "\u000e\u000f\u0010\u0011\u0012\u0013\u0014\u0015\u0016\u0017\u0018\u0019\u001a\u001b\u001c",
            "\u001d",
            "\u001e",
            "\u001f !\"#$%&'()*+,-./\u001b[43m\u001b[1m0\u001b[0m\u001b[43m\u001b[1m1\u001b[0m\u001b[43m\u001b[1m2\u001b[0m\u001b[43m\u001b[1m3\u001b[0m\u001b[43m\u001b[1m4\u001b[0m\u001b[43m\u001b[1m5\u001b[0m\u001b[43m\u001b[1m6\u001b[0m\u001b[43m\u001b[1m7\u001b[0m\u001b[43m\u001b[1m8\u001b[0m\u001b[43m\u001b[1m9\u001b[0m:;<=>?@\u001b[43m\u001b[1mA\u001b[0m\u001b[43m\u001b[1mB\u001b[0m\u001b[43m\u001b[1mC\u001b[0m\u001b[43m\u001b[1mD\u001b[0m\u001b[43m\u001b[1mE\u001b[0m\u001b[43m\u001b[1mF\u001b[0m\u001b[43m\u001b[1mG\u001b[0m\u001b[43m\u001b[1mH\u001b[0m\u001b[43m\u001b[1mI\u001b[0m\u001b[43m\u001b[1mJ\u001b[0m\u001b[43m\u001b[1mK\u001b[0m\u001b[43m\u001b[1mL\u001b[0m\u001b[43m\u001b[1mM\u001b[0m\u001b[43m\u001b[1mN\u001b[0m\u001b[43m\u001b[1mO\u001b[0m\u001b[43m\u001b[1mP\u001b[0m\u001b[43m\u001b[1mQ\u001b[0m\u001b[43m\u001b[1mR\u001b[0m\u001b[43m\u001b[1mS\u001b[0m\u001b[43m\u001b[1mT\u001b[0m\u001b[43m\u001b[1mU\u001b[0m\u001b[43m\u001b[1mV\u001b[0m\u001b[43m\u001b[1mW\u001b[0m\u001b[43m\u001b[1mX\u001b[0m\u001b[43m\u001b[1mY\u001b[0m\u001b[43m\u001b[1mZ\u001b[0m[\\]^\u001b[43m\u001b[1m_\u001b[0m`\u001b[43m\u001b[1ma\u001b[0m\u001b[43m\u001b[1mb\u001b[0m\u001b[43m\u001b[1mc\u001b[0m\u001b[43m\u001b[1md\u001b[0m\u001b[43m\u001b[1me\u001b[0m\u001b[43m\u001b[1mf\u001b[0m\u001b[43m\u001b[1mg\u001b[0m\u001b[43m\u001b[1mh\u001b[0m\u001b[43m\u001b[1mi\u001b[0m\u001b[43m\u001b[1mj\u001b[0m\u001b[43m\u001b[1mk\u001b[0m\u001b[43m\u001b[1ml\u001b[0m\u001b[43m\u001b[1mm\u001b[0m\u001b[43m\u001b[1mn\u001b[0m\u001b[43m\u001b[1mo\u001b[0m\u001b[43m\u001b[1mp\u001b[0m\u001b[43m\u001b[1mq\u001b[0m\u001b[43m\u001b[1mr\u001b[0m\u001b[43m\u001b[1ms\u001b[0m\u001b[43m\u001b[1mt\u001b[0m\u001b[43m\u001b[1mu\u001b[0m\u001b[43m\u001b[1mv\u001b[0m\u001b[43m\u001b[1mw\u001b[0m\u001b[43m\u001b[1mx\u001b[0m\u001b[43m\u001b[1my\u001b[0m\u001b[43m\u001b[1mz\u001b[0m{|}~",
            " ¡¢£¤¥¦§¨©\u001b[43m\u001b[1mª\u001b[0m«¬­®¯°±\u001b[43m\u001b[1m²\u001b[0m\u001b[43m\u001b[1m³\u001b[0m´\u001b[43m\u001b[1mµ\u001b[0m¶·¸\u001b[43m\u001b[1m¹\u001b[0m\u001b[43m\u001b[1mº\u001b[0m»\u001b[43m\u001b[1m¼\u001b[0m\u001b[43m\u001b[1m½\u001b[0m\u001b[43m\u001b[1m¾\u001b[0m¿\u001b[43m\u001b[1mÀ\u001b[0m\u001b[43m\u001b[1mÁ\u001b[0m\u001b[43m\u001b[1mÂ\u001b[0m\u001b[43m\u001b[1mÃ\u001b[0m\u001b[43m\u001b[1mÄ\u001b[0m\u001b[43m\u001b[1mÅ\u001b[0m\u001b[43m\u001b[1mÆ\u001b[0m\u001b[43m\u001b[1mÇ\u001b[0m\u001b[43m\u001b[1mÈ\u001b[0m\u001b[43m\u001b[1mÉ\u001b[0m\u001b[43m\u001b[1mÊ\u001b[0m\u001b[43m\u001b[1mË\u001b[0m\u001b[43m\u001b[1mÌ\u001b[0m\u001b[43m\u001b[1mÍ\u001b[0m\u001b[43m\u001b[1mÎ\u001b[0m\u001b[43m\u001b[1mÏ\u001b[0m\u001b[43m\u001b[1mÐ\u001b[0m\u001b[43m\u001b[1mÑ\u001b[0m\u001b[43m\u001b[1mÒ\u001b[0m\u001b[43m\u001b[1mÓ\u001b[0m\u001b[43m\u001b[1mÔ\u001b[0m\u001b[43m\u001b[1mÕ\u001b[0m\u001b[43m\u001b[1mÖ\u001b[0m×\u001b[43m\u001b[1mØ\u001b[0m\u001b[43m\u001b[1mÙ\u001b[0m\u001b[43m\u001b[1mÚ\u001b[0m\u001b[43m\u001b[1mÛ\u001b[0m\u001b[43m\u001b[1mÜ\u001b[0m\u001b[43m\u001b[1mÝ\u001b[0m\u001b[43m\u001b[1mÞ\u001b[0m\u001b[43m\u001b[1mß\u001b[0m\u001b[43m\u001b[1mà\u001b[0m\u001b[43m\u001b[1má\u001b[0m\u001b[43m\u001b[1mâ\u001b[0m\u001b[43m\u001b[1mã\u001b[0m\u001b[43m\u001b[1mä\u001b[0m\u001b[43m\u001b[1må\u001b[0m\u001b[43m\u001b[1mæ\u001b[0m\u001b[43m\u001b[1mç\u001b[0m\u001b[43m\u001b[1mè\u001b[0m\u001b[43m\u001b[1mé\u001b[0m\u001b[43m\u001b[1mê\u001b[0m\u001b[43m\u001b[1më\u001b[0m\u001b[43m\u001b[1mì\u001b[0m\u001b[43m\u001b[1mí\u001b[0m\u001b[43m\u001b[1mî\u001b[0m\u001b[43m\u001b[1mï\u001b[0m\u001b[43m\u001b[1mð\u001b[0m\u001b[43m\u001b[1mñ\u001b[0m\u001b[43m\u001b[1mò\u001b[0m\u001b[43m\u001b[1mó\u001b[0m\u001b[43m\u001b[1mô\u001b[0m\u001b[43m\u001b[1mõ\u001b[0m\u001b[43m\u001b[1mö\u001b[0m÷\u001b[43m\u001b[1mø\u001b[0m\u001b[43m\u001b[1mù\u001b[0m\u001b[43m\u001b[1mú\u001b[0m\u001b[43m\u001b[1mû\u001b[0m\u001b[43m\u001b[1mü\u001b[0m\u001b[43m\u001b[1mý\u001b[0m\u001b[43m\u001b[1mþ\u001b[0m\u001b[43m\u001b[1mÿ\u001b[0m\n"
          ]
        }
      ],
      "source": [
        "highlight_regex_matches(pattern, chars)"
      ]
    },
    {
      "cell_type": "code",
      "execution_count": null,
      "metadata": {
        "id": "gEDfBeu18q4A"
      },
      "outputs": [],
      "source": [
        "pattern = re.compile(\"\\w\", flags=re.A)"
      ]
    },
    {
      "cell_type": "code",
      "execution_count": null,
      "metadata": {
        "id": "ulLnxRN48q4A",
        "outputId": "5ef293a9-190c-41f5-9029-c8ea70597981"
      },
      "outputs": [
        {
          "name": "stdout",
          "output_type": "stream",
          "text": [
            "\u0000\u0001\u0002\u0003\u0004\u0005\u0006\u0007\b\t\n",
            "\u000b",
            "\f",
            "\r",
            "\u000e\u000f\u0010\u0011\u0012\u0013\u0014\u0015\u0016\u0017\u0018\u0019\u001a\u001b\u001c",
            "\u001d",
            "\u001e",
            "\u001f !\"#$%&'()*+,-./\u001b[43m\u001b[1m0\u001b[0m\u001b[43m\u001b[1m1\u001b[0m\u001b[43m\u001b[1m2\u001b[0m\u001b[43m\u001b[1m3\u001b[0m\u001b[43m\u001b[1m4\u001b[0m\u001b[43m\u001b[1m5\u001b[0m\u001b[43m\u001b[1m6\u001b[0m\u001b[43m\u001b[1m7\u001b[0m\u001b[43m\u001b[1m8\u001b[0m\u001b[43m\u001b[1m9\u001b[0m:;<=>?@\u001b[43m\u001b[1mA\u001b[0m\u001b[43m\u001b[1mB\u001b[0m\u001b[43m\u001b[1mC\u001b[0m\u001b[43m\u001b[1mD\u001b[0m\u001b[43m\u001b[1mE\u001b[0m\u001b[43m\u001b[1mF\u001b[0m\u001b[43m\u001b[1mG\u001b[0m\u001b[43m\u001b[1mH\u001b[0m\u001b[43m\u001b[1mI\u001b[0m\u001b[43m\u001b[1mJ\u001b[0m\u001b[43m\u001b[1mK\u001b[0m\u001b[43m\u001b[1mL\u001b[0m\u001b[43m\u001b[1mM\u001b[0m\u001b[43m\u001b[1mN\u001b[0m\u001b[43m\u001b[1mO\u001b[0m\u001b[43m\u001b[1mP\u001b[0m\u001b[43m\u001b[1mQ\u001b[0m\u001b[43m\u001b[1mR\u001b[0m\u001b[43m\u001b[1mS\u001b[0m\u001b[43m\u001b[1mT\u001b[0m\u001b[43m\u001b[1mU\u001b[0m\u001b[43m\u001b[1mV\u001b[0m\u001b[43m\u001b[1mW\u001b[0m\u001b[43m\u001b[1mX\u001b[0m\u001b[43m\u001b[1mY\u001b[0m\u001b[43m\u001b[1mZ\u001b[0m[\\]^\u001b[43m\u001b[1m_\u001b[0m`\u001b[43m\u001b[1ma\u001b[0m\u001b[43m\u001b[1mb\u001b[0m\u001b[43m\u001b[1mc\u001b[0m\u001b[43m\u001b[1md\u001b[0m\u001b[43m\u001b[1me\u001b[0m\u001b[43m\u001b[1mf\u001b[0m\u001b[43m\u001b[1mg\u001b[0m\u001b[43m\u001b[1mh\u001b[0m\u001b[43m\u001b[1mi\u001b[0m\u001b[43m\u001b[1mj\u001b[0m\u001b[43m\u001b[1mk\u001b[0m\u001b[43m\u001b[1ml\u001b[0m\u001b[43m\u001b[1mm\u001b[0m\u001b[43m\u001b[1mn\u001b[0m\u001b[43m\u001b[1mo\u001b[0m\u001b[43m\u001b[1mp\u001b[0m\u001b[43m\u001b[1mq\u001b[0m\u001b[43m\u001b[1mr\u001b[0m\u001b[43m\u001b[1ms\u001b[0m\u001b[43m\u001b[1mt\u001b[0m\u001b[43m\u001b[1mu\u001b[0m\u001b[43m\u001b[1mv\u001b[0m\u001b[43m\u001b[1mw\u001b[0m\u001b[43m\u001b[1mx\u001b[0m\u001b[43m\u001b[1my\u001b[0m\u001b[43m\u001b[1mz\u001b[0m{|}~",
            " ¡¢£¤¥¦§¨©ª«¬­®¯°±²³´µ¶·¸¹º»¼½¾¿ÀÁÂÃÄÅÆÇÈÉÊËÌÍÎÏÐÑÒÓÔÕÖ×ØÙÚÛÜÝÞßàáâãäåæçèéêëìíîïðñòóôõö÷øùúûüýþÿ\n"
          ]
        }
      ],
      "source": [
        "highlight_regex_matches(pattern, chars)"
      ]
    },
    {
      "cell_type": "markdown",
      "metadata": {
        "id": "B9ECbBzt8q4B"
      },
      "source": [
        "## 7. re.VERBOSE or re.X\n",
        "\n",
        "This flag changes the regex syntax, to allow you to add annotations in regex. \n",
        "\n",
        "- Whitespace within the pattern is ignored, except when in a character class or preceded by an unescaped backslash.\n",
        "\n",
        "- When a line contains a # neither in a character class or preceded by an unescaped backslash, all characters from the leftmost such # through the end of the line are ignored."
      ]
    },
    {
      "cell_type": "code",
      "execution_count": null,
      "metadata": {
        "id": "iy0wASEU8q4B"
      },
      "outputs": [],
      "source": [
        "txt = \"\"\"\n",
        "This is a sample text123\n",
        "\"\"\""
      ]
    },
    {
      "cell_type": "code",
      "execution_count": null,
      "metadata": {
        "id": "xZVGtBk_8q4C"
      },
      "outputs": [],
      "source": [
        "pattern = re.compile(\"\\w +\")"
      ]
    },
    {
      "cell_type": "code",
      "execution_count": null,
      "metadata": {
        "id": "ey0L4nZF8q4C",
        "outputId": "b9c70b2a-8419-400e-fc24-2d83d8331c90"
      },
      "outputs": [
        {
          "data": {
            "text/plain": [
              "['s ', 's ', 'a ', 'e ']"
            ]
          },
          "execution_count": 25,
          "metadata": {},
          "output_type": "execute_result"
        }
      ],
      "source": [
        "pattern.findall(txt)"
      ]
    },
    {
      "cell_type": "code",
      "execution_count": null,
      "metadata": {
        "id": "P62LXHg58q4C"
      },
      "outputs": [],
      "source": [
        "pattern = re.compile(\"\\w +  # find all words\", flags=re.X)"
      ]
    },
    {
      "cell_type": "code",
      "execution_count": null,
      "metadata": {
        "scrolled": true,
        "id": "M9XG0wKN8q4D",
        "outputId": "db98421d-728a-4e91-c14d-753b55256aa5"
      },
      "outputs": [
        {
          "data": {
            "text/plain": [
              "['This', 'is', 'a', 'sample', 'text123']"
            ]
          },
          "execution_count": 27,
          "metadata": {},
          "output_type": "execute_result"
        }
      ],
      "source": [
        "pattern.findall(txt)"
      ]
    },
    {
      "cell_type": "markdown",
      "metadata": {
        "id": "QMkWmIDi8q4D"
      },
      "source": [
        "## 8. re.DEBUG\n",
        "\n",
        "This flag when set, gives some information about the compilation pattern."
      ]
    },
    {
      "cell_type": "code",
      "execution_count": null,
      "metadata": {
        "id": "XGmrW00C8q4D",
        "outputId": "3eb03b98-48f0-4bfa-e156-a45b4ac776aa"
      },
      "outputs": [
        {
          "name": "stdout",
          "output_type": "stream",
          "text": [
            "LITERAL 8\n",
            "MAX_REPEAT 1 MAXREPEAT\n",
            "  IN\n",
            "    RANGE (97, 101)\n",
            "    RANGE (55, 57)\n",
            "LITERAL 8\n"
          ]
        }
      ],
      "source": [
        "pattern = re.compile(\"\\b[a-e7-9]+\\b\", flags=re.DEBUG)"
      ]
    },
    {
      "cell_type": "markdown",
      "metadata": {
        "id": "-ddBXZvZ8q4E"
      },
      "source": [
        "![](images/memes/meme22.jpg)"
      ]
    },
    {
      "cell_type": "markdown",
      "metadata": {
        "id": "IJpvU9fk8rou"
      },
      "source": [
        "# Grouping\n",
        "\n",
        "> Frequently you need to obtain more information than just whether the regex pattern matched or not.\n",
        "\n",
        "By placing part of a regular expression inside round brackets or parentheses `(`, `)`, you can **group that part** of the regex pattern together.\n",
        "\n",
        "### Applications of grouping:\n",
        "\n",
        "#### 1. apply a quantifier to the entire group.\n",
        "\n",
        "For example, `(ab)+` will match one or more repetitions of `ab`."
      ]
    },
    {
      "cell_type": "code",
      "execution_count": null,
      "metadata": {
        "id": "Z4lW1w4q8row"
      },
      "outputs": [],
      "source": [
        "import re\n",
        "from utils import highlight_regex_matches"
      ]
    },
    {
      "cell_type": "code",
      "execution_count": null,
      "metadata": {
        "id": "--hL9DiM8rox"
      },
      "outputs": [],
      "source": [
        "txt = \"abbbbbabbbb\""
      ]
    },
    {
      "cell_type": "code",
      "execution_count": null,
      "metadata": {
        "id": "naQBn4LY8roy"
      },
      "outputs": [],
      "source": [
        "pattern1 = re.compile(\"ab+\")\n",
        "pattern2 = re.compile(\"(ab)+\")"
      ]
    },
    {
      "cell_type": "code",
      "execution_count": null,
      "metadata": {
        "id": "EsU5L2iw8roy",
        "outputId": "3d61452e-b75f-47ce-9f4b-28b61fd1bc04"
      },
      "outputs": [
        {
          "name": "stdout",
          "output_type": "stream",
          "text": [
            "\u001b[43m\u001b[1mabbbbb\u001b[0m\u001b[43m\u001b[1mabbbb\u001b[0m\n"
          ]
        }
      ],
      "source": [
        "highlight_regex_matches(pattern1, txt)"
      ]
    },
    {
      "cell_type": "code",
      "execution_count": null,
      "metadata": {
        "id": "5_p5G-Zv8roz",
        "outputId": "2cff6160-701c-4a77-84ac-661fd112498f"
      },
      "outputs": [
        {
          "name": "stdout",
          "output_type": "stream",
          "text": [
            "\u001b[43m\u001b[1mab\u001b[0mbbbb\u001b[43m\u001b[1mab\u001b[0mbbb\n"
          ]
        }
      ],
      "source": [
        "highlight_regex_matches(pattern2, txt)"
      ]
    },
    {
      "cell_type": "markdown",
      "metadata": {
        "id": "xj63jZMW8ro0"
      },
      "source": [
        "#### 2. restrict alternation to part of the regex.\n",
        "\n",
        "For example, `my name is ram|sam` will match `my name is ram` and `sam` whereas `my name is (ram|sam)` will match `my name is ram` and `my name is sam`."
      ]
    },
    {
      "cell_type": "code",
      "execution_count": null,
      "metadata": {
        "id": "8Rs5bvbK8ro1"
      },
      "outputs": [],
      "source": [
        "txt = \"\"\"\n",
        "my name is ram\n",
        "my name is sam\n",
        "\"\"\""
      ]
    },
    {
      "cell_type": "code",
      "execution_count": null,
      "metadata": {
        "id": "EWzjAcNV8ro1"
      },
      "outputs": [],
      "source": [
        "pattern1 = re.compile(\"my name is ram|sam\")\n",
        "pattern2 = re.compile(\"my name is (ram|sam)\")"
      ]
    },
    {
      "cell_type": "code",
      "execution_count": null,
      "metadata": {
        "id": "rQN5aZGC8ro2",
        "outputId": "0571425e-4724-4034-d227-6658b2a10633"
      },
      "outputs": [
        {
          "name": "stdout",
          "output_type": "stream",
          "text": [
            "\n",
            "\u001b[43m\u001b[1mmy name is ram\u001b[0m\n",
            "my name is \u001b[43m\u001b[1msam\u001b[0m\n",
            "\n"
          ]
        }
      ],
      "source": [
        "highlight_regex_matches(pattern1, txt)"
      ]
    },
    {
      "cell_type": "code",
      "execution_count": null,
      "metadata": {
        "id": "Z9WXxxhU8ro2",
        "outputId": "5d652c66-08ef-492d-960c-1b8a8119518d"
      },
      "outputs": [
        {
          "name": "stdout",
          "output_type": "stream",
          "text": [
            "\n",
            "\u001b[43m\u001b[1mmy name is ram\u001b[0m\n",
            "\u001b[43m\u001b[1mmy name is sam\u001b[0m\n",
            "\n"
          ]
        }
      ],
      "source": [
        "highlight_regex_matches(pattern2, txt)"
      ]
    },
    {
      "cell_type": "markdown",
      "metadata": {
        "id": "ic_Xqr0h8ro3"
      },
      "source": [
        "#### 3. capture the text matched by group.\n",
        "\n",
        "- Groups indicated with `(`, `)` also capture the **starting** and **ending** index of the text that they match.\n",
        "\n",
        "- Groups can be retrieved by passing an argument to `group()`, `start()`, `end()`, and `span()` of the `Match` object. \n",
        "\n",
        "- Groups are numbered starting with `0`. \n",
        "\n",
        "- Group `0` is always present; it captures the whole regex pattern, so all `Match` object methods have group `0` as their default argument.\n",
        "\n",
        "Consider an example where we want to parse a date and determine day, month and year."
      ]
    },
    {
      "cell_type": "code",
      "execution_count": null,
      "metadata": {
        "id": "bI5Oho918ro3"
      },
      "outputs": [],
      "source": [
        "txt = \"12/02/2019\" "
      ]
    },
    {
      "cell_type": "code",
      "execution_count": null,
      "metadata": {
        "id": "7FppbUDz8ro3"
      },
      "outputs": [],
      "source": [
        "pattern = re.compile(\"(\\d{2})\\/(\\d{2})\\/(\\d{4})\")"
      ]
    },
    {
      "cell_type": "code",
      "execution_count": null,
      "metadata": {
        "id": "7NEzvRcC8ro4"
      },
      "outputs": [],
      "source": [
        "match = pattern.match(txt)"
      ]
    },
    {
      "cell_type": "code",
      "execution_count": null,
      "metadata": {
        "id": "wjWENH9T8ro4",
        "outputId": "997ddf6d-e426-4f07-d0eb-509221a05040"
      },
      "outputs": [
        {
          "data": {
            "text/plain": [
              "'12/02/2019'"
            ]
          },
          "execution_count": 13,
          "metadata": {},
          "output_type": "execute_result"
        }
      ],
      "source": [
        "# group 0: matches entire regex pattern\n",
        "match.group(0)"
      ]
    },
    {
      "cell_type": "code",
      "execution_count": null,
      "metadata": {
        "id": "WfDoonkY8ro4",
        "outputId": "95e6a222-f784-4aee-90e2-cc8c5418be5f"
      },
      "outputs": [
        {
          "data": {
            "text/plain": [
              "'12'"
            ]
          },
          "execution_count": 14,
          "metadata": {},
          "output_type": "execute_result"
        }
      ],
      "source": [
        "# group 1: match 1st group\n",
        "match.group(1)"
      ]
    },
    {
      "cell_type": "code",
      "execution_count": null,
      "metadata": {
        "id": "8B_jcyIl8ro5",
        "outputId": "cb8b116d-0c88-48c6-b0ed-b0b0752c0f10"
      },
      "outputs": [
        {
          "data": {
            "text/plain": [
              "'02'"
            ]
          },
          "execution_count": 15,
          "metadata": {},
          "output_type": "execute_result"
        }
      ],
      "source": [
        "match.group(2)"
      ]
    },
    {
      "cell_type": "code",
      "execution_count": null,
      "metadata": {
        "id": "TMB1zMwS8ro5",
        "outputId": "bbab973f-3450-425d-de71-835c2397306d"
      },
      "outputs": [
        {
          "data": {
            "text/plain": [
              "'2019'"
            ]
          },
          "execution_count": 16,
          "metadata": {},
          "output_type": "execute_result"
        }
      ],
      "source": [
        "match.group(3)"
      ]
    },
    {
      "cell_type": "code",
      "execution_count": null,
      "metadata": {
        "id": "5J73ASEa8ro5"
      },
      "outputs": [],
      "source": [
        "day, month, year = match.groups()"
      ]
    },
    {
      "cell_type": "code",
      "execution_count": null,
      "metadata": {
        "scrolled": true,
        "id": "vS6ldUqN8ro5",
        "outputId": "f22bb562-23fc-4ef1-f335-e748a53e6fed"
      },
      "outputs": [
        {
          "data": {
            "text/plain": [
              "('12', '02', '2019')"
            ]
          },
          "execution_count": 18,
          "metadata": {},
          "output_type": "execute_result"
        }
      ],
      "source": [
        "day, month, year"
      ]
    },
    {
      "cell_type": "markdown",
      "metadata": {
        "id": "QOU0k7Pe8ro6"
      },
      "source": [
        "Let's try one more example of group capturing. \n",
        "\n",
        "In the given text, find all the patterns with `Name: <some-name>` and extract `<some-name>`. "
      ]
    },
    {
      "cell_type": "code",
      "execution_count": null,
      "metadata": {
        "id": "fMdxMjGa8ro6"
      },
      "outputs": [],
      "source": [
        "txt = \"\"\"\n",
        "Name: Nikhil\n",
        "Age: 0\n",
        "Roll No.: 15\n",
        "Grade: S\n",
        "\n",
        "Name: Ravi\n",
        "Age: -1\n",
        "Roll No.: 123\n",
        "Grade: K\n",
        "\n",
        "Name: Ram\n",
        "Age: N/A\n",
        "Roll No.: 1\n",
        "Grade: G\n",
        "\"\"\""
      ]
    },
    {
      "cell_type": "code",
      "execution_count": null,
      "metadata": {
        "id": "hJhB5nDK8ro6"
      },
      "outputs": [],
      "source": [
        "pattern = re.compile(\"Name: (.+)\\n\")"
      ]
    },
    {
      "cell_type": "code",
      "execution_count": null,
      "metadata": {
        "id": "ejESKqH18ro6",
        "outputId": "d6f40139-25df-4f6e-9b2c-f1adfcade94d"
      },
      "outputs": [
        {
          "data": {
            "text/plain": [
              "['Nikhil', 'Ravi', 'Ram']"
            ]
          },
          "execution_count": 22,
          "metadata": {},
          "output_type": "execute_result"
        }
      ],
      "source": [
        "pattern.findall(txt)"
      ]
    },
    {
      "cell_type": "markdown",
      "metadata": {
        "id": "d7jZZJ6p8ro7"
      },
      "source": [
        "> Parentheses cannot be used inside character classes, at least not as metacharacters. When you put a parenthesis in a character class, it is treated as a literal character. So the regex `[(a)b]` matches `a`, `b`, `(`, and `)`."
      ]
    },
    {
      "cell_type": "markdown",
      "metadata": {
        "id": "6N8XAqK-8ro7"
      },
      "source": [
        "![](images/memes/meme24.jpg)"
      ]
    },
    {
      "cell_type": "markdown",
      "metadata": {
        "id": "YeJ14L8b8s4n"
      },
      "source": [
        "# Backreferencing\n",
        "\n",
        "**Backreferences** in a pattern allow you to specify that the contents of an earlier capturing group must also be found at the current location in the string. \n",
        "\n",
        "> For example, `\\1` will succeed if the exact contents of group `1` can be found at the current position, and fails otherwise.\n",
        "\n",
        "### Example 1\n",
        "\n",
        "Consider a scenario where we want to find all the duplicated words in the given text."
      ]
    },
    {
      "cell_type": "code",
      "execution_count": null,
      "metadata": {
        "id": "SpZKYbP58s4o"
      },
      "outputs": [],
      "source": [
        "import re"
      ]
    },
    {
      "cell_type": "code",
      "execution_count": null,
      "metadata": {
        "id": "_7UqXdYI8s4p"
      },
      "outputs": [],
      "source": [
        "txt = \"\"\"\n",
        "hello hello\n",
        "how are you\n",
        "bye bye\n",
        "\"\"\""
      ]
    },
    {
      "cell_type": "code",
      "execution_count": null,
      "metadata": {
        "id": "4KT6QnZP8s4p"
      },
      "outputs": [],
      "source": [
        "pattern = re.compile(\"(\\w+) \\\\1\")"
      ]
    },
    {
      "cell_type": "code",
      "execution_count": null,
      "metadata": {
        "scrolled": true,
        "id": "YSf5DszQ8s4p",
        "outputId": "956fb4c0-b5a8-4a4d-a9ee-37f4c1986b3a"
      },
      "outputs": [
        {
          "data": {
            "text/plain": [
              "['hello', 'bye']"
            ]
          },
          "execution_count": 4,
          "metadata": {},
          "output_type": "execute_result"
        }
      ],
      "source": [
        "pattern.findall(txt)"
      ]
    },
    {
      "cell_type": "markdown",
      "metadata": {
        "id": "sXiLvUEV8s4q"
      },
      "source": [
        "> Since Python’s string literals also use a **backslash followed by numbers** to allow including arbitrary characters in a string, backreferences need to be **escaped** so that regex engine gets proper format. We can also use **raw strings** to ignore escaping.\n",
        "\n",
        "Here is an example using raw strings."
      ]
    },
    {
      "cell_type": "code",
      "execution_count": null,
      "metadata": {
        "id": "wX_bHtYl8s4w"
      },
      "outputs": [],
      "source": [
        "pattern = re.compile(r\"(\\w+) \\1\")"
      ]
    },
    {
      "cell_type": "code",
      "execution_count": null,
      "metadata": {
        "id": "pHYdd5ga8s4x",
        "outputId": "1ff0270e-cc5e-499e-f5a2-09c0377d15a0"
      },
      "outputs": [
        {
          "data": {
            "text/plain": [
              "['hello', 'bye']"
            ]
          },
          "execution_count": 6,
          "metadata": {},
          "output_type": "execute_result"
        }
      ],
      "source": [
        "pattern.findall(txt)"
      ]
    },
    {
      "cell_type": "markdown",
      "metadata": {
        "id": "Hq_GkZLO8s4x"
      },
      "source": [
        "### Example 2\n",
        "\n",
        "Consider a scenario where we want to find all dates with the format `dd/mm/yyy` and change them to `yyyy-mm-dd` format. "
      ]
    },
    {
      "cell_type": "code",
      "execution_count": null,
      "metadata": {
        "id": "mJPCntIa8s4x"
      },
      "outputs": [],
      "source": [
        "txt = \"\"\"\n",
        "today is 23/02/2019.\n",
        "yesterday was 22/02/2019.\n",
        "tomorrow is 24/02/2019.\n",
        "\"\"\""
      ]
    },
    {
      "cell_type": "code",
      "execution_count": null,
      "metadata": {
        "id": "TIBtv2dF8s4x"
      },
      "outputs": [],
      "source": [
        "pattern = re.compile(\"(\\d{2})\\/(\\d{2})\\/(\\d{4})\")"
      ]
    },
    {
      "cell_type": "code",
      "execution_count": null,
      "metadata": {
        "id": "WxDxsuSM8s4y"
      },
      "outputs": [],
      "source": [
        "newtxt = pattern.sub(r\"\\3-\\2-\\1\", txt)"
      ]
    },
    {
      "cell_type": "code",
      "execution_count": null,
      "metadata": {
        "id": "dkk_UjXz8s4y",
        "outputId": "3069217d-e6d5-45fe-e0f6-5d918794f5ea"
      },
      "outputs": [
        {
          "name": "stdout",
          "output_type": "stream",
          "text": [
            "\n",
            "today is 2019-02-23.\n",
            "yesterday was 2019-02-22.\n",
            "tomorrow is 2019-02-24.\n",
            "\n"
          ]
        }
      ],
      "source": [
        "print(newtxt)"
      ]
    },
    {
      "cell_type": "markdown",
      "metadata": {
        "id": "W0ou2BbS8s4y"
      },
      "source": [
        "> Backreferences, too, cannot be used inside a character class. The `\\1` in a regex like `(a)[\\1b]` is either an error or a needlessly escaped literal 1. "
      ]
    },
    {
      "cell_type": "markdown",
      "metadata": {
        "id": "3pA_Qv8e32sR"
      },
      "source": [
        "![](images/memes/meme4.jpg)"
      ]
    },
    {
      "cell_type": "markdown",
      "metadata": {
        "id": "Ut4U3qs18t_P"
      },
      "source": [
        "# Named Groups\n",
        "\n",
        "> Using numbers to refer to groups can be tedious and confusing, and the worst thing is that it doesn't allow you to give meaning or context to the group. That's why we have named groups.\n",
        "\n",
        "Instead of referring to groups by numbers, groups can be referenced by a name. Such a group is called a **named group**.\n",
        "\n",
        "- The syntax for a named group is one of the Python-specific extensions: `(?P<name>...)`  where `name` is, obviously, the name of the group. \n",
        "\n",
        "- Named groups behave exactly like capturing groups, and additionally associate a name with a group.\n",
        "\n",
        "- Here is a table which shows three different ways to refer to named groups:\n",
        "    \n",
        "<table style=\"border: 1px solid black; font-size:15px;\">\n",
        "<thead>\n",
        "    <th>Use</th>\n",
        "    <th>Syntax</th>\n",
        "</thead>\n",
        "    \n",
        "<tbody>\n",
        "<tr>\n",
        "    <td>Inside a pattern</td>\n",
        "    <td>(?P=name)</td>\n",
        "</tr>\n",
        "    \n",
        "<tr>\n",
        "    <td>In the repl string of the sub operation</td>\n",
        "    <td>\\g&lt;name&gt;</td>\n",
        "</tr>\n",
        "\n",
        "<tr>\n",
        "    <td>In any of the operations of the MatchObject</td>\n",
        "    <td>match.group('name')</td>\n",
        "</tr>\n",
        "</tbody>\n",
        "</table>\n",
        "\n",
        "### Example 1\n",
        "\n",
        "Consider a scenario where we want to extract the first name and last name of a person."
      ]
    },
    {
      "cell_type": "code",
      "execution_count": null,
      "metadata": {
        "id": "fldQW8J18t_Q"
      },
      "outputs": [],
      "source": [
        "import re"
      ]
    },
    {
      "cell_type": "code",
      "execution_count": null,
      "metadata": {
        "id": "brn04DR58t_R"
      },
      "outputs": [],
      "source": [
        "txt = \"Nikhil Kumar\""
      ]
    },
    {
      "cell_type": "code",
      "execution_count": null,
      "metadata": {
        "id": "s0DSJ7qw8t_R"
      },
      "outputs": [],
      "source": [
        "pattern = re.compile(\"(?P<first>\\w+) (?P<last>\\w+)\")"
      ]
    },
    {
      "cell_type": "code",
      "execution_count": null,
      "metadata": {
        "id": "zjpUPrAg8t_R"
      },
      "outputs": [],
      "source": [
        "match = pattern.match(txt)"
      ]
    },
    {
      "cell_type": "code",
      "execution_count": null,
      "metadata": {
        "id": "1YAh9-Xz8t_R",
        "outputId": "54f8ad26-c6b5-4958-8ce3-47c9b18dea31"
      },
      "outputs": [
        {
          "data": {
            "text/plain": [
              "'Nikhil'"
            ]
          },
          "execution_count": 5,
          "metadata": {},
          "output_type": "execute_result"
        }
      ],
      "source": [
        "match.group('first')"
      ]
    },
    {
      "cell_type": "code",
      "execution_count": null,
      "metadata": {
        "id": "OWNt1dwa8t_S",
        "outputId": "873d1f22-ad43-44f6-cc45-ed46bd85355c"
      },
      "outputs": [
        {
          "data": {
            "text/plain": [
              "'Kumar'"
            ]
          },
          "execution_count": 6,
          "metadata": {},
          "output_type": "execute_result"
        }
      ],
      "source": [
        "match.group('last')"
      ]
    },
    {
      "cell_type": "markdown",
      "metadata": {
        "id": "5HcH70eN8t_S"
      },
      "source": [
        "### Example 2\n",
        "\n",
        "Now consider the scenario where we want to swap first name and last name in above example."
      ]
    },
    {
      "cell_type": "code",
      "execution_count": null,
      "metadata": {
        "scrolled": true,
        "id": "rRVE7REn8t_T",
        "outputId": "df1e28ca-5cf8-434a-96f1-4e5d4aec6dce"
      },
      "outputs": [
        {
          "data": {
            "text/plain": [
              "'Kumar Nikhil'"
            ]
          },
          "execution_count": 7,
          "metadata": {},
          "output_type": "execute_result"
        }
      ],
      "source": [
        "pattern.sub(\"\\g<last> \\g<first>\", txt)"
      ]
    },
    {
      "cell_type": "markdown",
      "metadata": {
        "id": "7TKT2BqC8t_T"
      },
      "source": [
        "### Example 3\n",
        "\n",
        "Consider a scenario where we want to check if a person has same first and last name."
      ]
    },
    {
      "cell_type": "code",
      "execution_count": null,
      "metadata": {
        "id": "OnUMCicS8t_T"
      },
      "outputs": [],
      "source": [
        "txt = \"Jhonson Jhonson\""
      ]
    },
    {
      "cell_type": "code",
      "execution_count": null,
      "metadata": {
        "id": "ZLukoJJ78t_T"
      },
      "outputs": [],
      "source": [
        "pattern = re.compile(\"(?P<first>\\w+) (?P=first)\")"
      ]
    },
    {
      "cell_type": "code",
      "execution_count": null,
      "metadata": {
        "id": "ET4fxRfb8t_T",
        "outputId": "4f56706d-8558-4e3e-f322-b6da694f1306"
      },
      "outputs": [
        {
          "data": {
            "text/plain": [
              "['Jhonson']"
            ]
          },
          "execution_count": 10,
          "metadata": {},
          "output_type": "execute_result"
        }
      ],
      "source": [
        "pattern.findall(txt)"
      ]
    },
    {
      "cell_type": "markdown",
      "metadata": {
        "id": "RFziwzxw8vJr"
      },
      "source": [
        "# Non-Capturing Groups\n",
        "\n",
        "> There are cases when we want to use groups, but we're not interested in extracting the information, i.e. capturing the matched text inside paranthesis only. An example is **alteration**.\n",
        "\n",
        "Let's consider an example where we want to find the strings `i love cats` or `i love dogs` in the given text."
      ]
    },
    {
      "cell_type": "code",
      "execution_count": null,
      "metadata": {
        "id": "FGUvt_CY8vJr"
      },
      "outputs": [],
      "source": [
        "import re"
      ]
    },
    {
      "cell_type": "code",
      "execution_count": null,
      "metadata": {
        "id": "KL8lzT1Z8vJs"
      },
      "outputs": [],
      "source": [
        "txt = \"\"\"\n",
        "i love cats\n",
        "i love dogs\n",
        "\"\"\""
      ]
    },
    {
      "cell_type": "code",
      "execution_count": null,
      "metadata": {
        "id": "OHV90Fyo8vJt"
      },
      "outputs": [],
      "source": [
        "pattern = re.compile(\"i love (cats|dogs)\")"
      ]
    },
    {
      "cell_type": "code",
      "execution_count": null,
      "metadata": {
        "id": "2tBui1I38vJt",
        "outputId": "0fb981fa-1e9f-4563-912c-e69650305ee1"
      },
      "outputs": [
        {
          "data": {
            "text/plain": [
              "['cats', 'dogs']"
            ]
          },
          "execution_count": 4,
          "metadata": {},
          "output_type": "execute_result"
        }
      ],
      "source": [
        "pattern.findall(txt)"
      ]
    },
    {
      "cell_type": "code",
      "execution_count": null,
      "metadata": {
        "id": "SjqQgjZG8vJu",
        "outputId": "75d1fca4-a6e2-48b8-ec8c-8dfe41a2c269"
      },
      "outputs": [
        {
          "name": "stdout",
          "output_type": "stream",
          "text": [
            "Complete regex match (default): i love cats\n",
            "Match captured by 1st group: cats\n",
            "Complete regex match (default): i love dogs\n",
            "Match captured by 1st group: dogs\n"
          ]
        }
      ],
      "source": [
        "for match in pattern.finditer(txt):\n",
        "    print(\"Complete regex match (default):\", match.group(0))\n",
        "    print(\"Match captured by 1st group:\", match.group(1))"
      ]
    },
    {
      "cell_type": "markdown",
      "metadata": {
        "id": "o1hNoTpx8vJv"
      },
      "source": [
        "As we can see, the group captured part contains only `cats` or `dogs` instead of complete sentences.\n",
        "\n",
        "Hence, to make a group **non-capturing**, we have to use the syntax `(?:pattern)`."
      ]
    },
    {
      "cell_type": "code",
      "execution_count": null,
      "metadata": {
        "id": "ZLfTOu4n8vJv"
      },
      "outputs": [],
      "source": [
        "pattern = re.compile(\"i love (?:cats|dogs)\")"
      ]
    },
    {
      "cell_type": "code",
      "execution_count": null,
      "metadata": {
        "id": "DWaamihn8vJw",
        "outputId": "d7a852f3-1909-4a91-c035-a5e3ad68a656"
      },
      "outputs": [
        {
          "data": {
            "text/plain": [
              "['i love cats', 'i love dogs']"
            ]
          },
          "execution_count": 7,
          "metadata": {},
          "output_type": "execute_result"
        }
      ],
      "source": [
        "pattern.findall(txt)"
      ]
    },
    {
      "cell_type": "markdown",
      "metadata": {
        "id": "F5tp2zLT8vJw"
      },
      "source": [
        "> After using the new syntax, we have the same functionality as before, but now we're saving resources and the regex is easier to maintain. Note that the group cannot be referenced."
      ]
    },
    {
      "cell_type": "markdown",
      "metadata": {
        "id": "WYJMDT3b8vJw"
      },
      "source": [
        "![](images/memes/meme30.jpg)"
      ]
    },
    {
      "cell_type": "markdown",
      "metadata": {
        "id": "i_JZWff78wAx"
      },
      "source": [
        "# Zero-width assertions\n",
        "\n",
        "- Characters which indicate positions rather than actual content are called **zero-width assertions**.\n",
        "\n",
        "\n",
        "- For instance, the caret symbol (`^`) is a representation of the beginning of a line or the dollar sign (`$`) for the end of a line. \n",
        "\n",
        "\n",
        "- They effectively do assertion without consuming characters; they just return a positive or negative result of the match.\n",
        "\n",
        "\n",
        "- A more powerful kind of **zero-width assertion** is **look around**, a mechanism with which it is possible to match a certain previous (**look behind**) or ulterior (**look ahead**) value to the current position.\n",
        "\n",
        "\n",
        "# Look around\n",
        "\n",
        "\n",
        "**Look around** is a simple mechanism which during the matching process, at the current position, looks forward (or behind, depends on type of lookaround used) to see if **some** pattern matches before continuing with the actual match.\n",
        "\n",
        "The most important thing to understand here is that **look around** mechanism consists of 2 parts:\n",
        "- **actual expression**: an expression whose match constitutes the final **result**.\n",
        "- **non-consuming expression**: an expression whose match is evaluated before the actual expression, just to see if it can succeed. It is **not actually consumed** by the regex engine.\n",
        "    - If the non-consuming match **succeeds**, the regex engine forgets about this non-consuming expression and starts evaluating the next character from the current position of the actual expression. \n",
        "    - If the non-consuming match **does not succeed**, we simply move to next character of the given text and repeat the whole match process again.\n",
        "\n",
        "There are 2 main categories of **look around**  which, in turn, have 2 sub-categories each.\n",
        "\n",
        "![](images/lookaround.png)\n",
        "\n",
        "Let's explore each one of them one by one."
      ]
    },
    {
      "cell_type": "markdown",
      "metadata": {
        "id": "GQzYODfX8wA0"
      },
      "source": [
        "# Look ahead\n",
        "\n",
        "**Look ahead** mechanism checks the match for a non-consuming expression **ahead** of a given pattern.\n",
        "\n",
        "\n",
        "## Positive look ahead\n",
        "\n",
        "- **Positive look ahead** will succeed if the passed non-consuming expression **does match** against the forthcoming input.\n",
        "\n",
        "- The syntax is `A(?=B)` where `A` is the **actual expression** and `B` is the **non-consuming expression**. \n",
        "\n",
        "\n",
        "Let's check out an example to understand the concept. Let's assume that we want to find a match for `love` in the given text only if it is followed by `regex`."
      ]
    },
    {
      "cell_type": "code",
      "execution_count": null,
      "metadata": {
        "id": "4tOqAIJQ8wA1"
      },
      "outputs": [],
      "source": [
        "import re\n",
        "from utils import highlight_regex_matches"
      ]
    },
    {
      "cell_type": "code",
      "execution_count": null,
      "metadata": {
        "id": "416VPsJr8wA2"
      },
      "outputs": [],
      "source": [
        "txt = \"i love python, i love regex\""
      ]
    },
    {
      "cell_type": "code",
      "execution_count": null,
      "metadata": {
        "id": "Dp9u_4328wA2"
      },
      "outputs": [],
      "source": [
        "pattern = re.compile('love regex')"
      ]
    },
    {
      "cell_type": "code",
      "execution_count": null,
      "metadata": {
        "id": "czh16Br18wA3"
      },
      "outputs": [],
      "source": [
        "match = pattern.search(txt)"
      ]
    },
    {
      "cell_type": "code",
      "execution_count": null,
      "metadata": {
        "scrolled": false,
        "id": "GUbQzGT78wA3",
        "outputId": "70eb0f68-c90a-4ec7-d2f7-ed85f57efe00"
      },
      "outputs": [
        {
          "data": {
            "text/plain": [
              "(17, 27)"
            ]
          },
          "execution_count": 5,
          "metadata": {},
          "output_type": "execute_result"
        }
      ],
      "source": [
        "match.span()"
      ]
    },
    {
      "cell_type": "code",
      "execution_count": null,
      "metadata": {
        "id": "jYyYjS1u8wA5",
        "outputId": "0a577af3-e080-4a73-96c8-05922530af8d"
      },
      "outputs": [
        {
          "data": {
            "text/plain": [
              "['love regex']"
            ]
          },
          "execution_count": 6,
          "metadata": {},
          "output_type": "execute_result"
        }
      ],
      "source": [
        "pattern.findall(txt)"
      ]
    },
    {
      "cell_type": "code",
      "execution_count": null,
      "metadata": {
        "id": "HZwq9j-j8wA5",
        "outputId": "8a39ee05-589c-43b4-bd20-12df5fc4d095"
      },
      "outputs": [
        {
          "name": "stdout",
          "output_type": "stream",
          "text": [
            "i love python, i \u001b[43m\u001b[1mlove regex\u001b[0m\n"
          ]
        }
      ],
      "source": [
        "highlight_regex_matches(pattern, txt)"
      ]
    },
    {
      "cell_type": "markdown",
      "metadata": {
        "id": "j6jr7F5Q8wA5"
      },
      "source": [
        "As we can see, a total of 10 (index 17 to 27) characters, i.e. `love regex` are consumed to search for the given pattern in the text.\n",
        "\n",
        "Now consider the regex pattern `love(?=\\sregex)`."
      ]
    },
    {
      "cell_type": "code",
      "execution_count": null,
      "metadata": {
        "id": "-tYMLdhq8wA6"
      },
      "outputs": [],
      "source": [
        "pattern = re.compile(\"love(?=\\sregex)\")"
      ]
    },
    {
      "cell_type": "code",
      "execution_count": null,
      "metadata": {
        "id": "9Ljc_2Ks8wA7"
      },
      "outputs": [],
      "source": [
        "match = pattern.search(txt)"
      ]
    },
    {
      "cell_type": "code",
      "execution_count": null,
      "metadata": {
        "id": "RWm63IKD8wA7",
        "outputId": "db385cf2-d5d7-4f2b-8e43-0e12fceee524"
      },
      "outputs": [
        {
          "data": {
            "text/plain": [
              "(17, 21)"
            ]
          },
          "execution_count": 10,
          "metadata": {},
          "output_type": "execute_result"
        }
      ],
      "source": [
        "match.span()"
      ]
    },
    {
      "cell_type": "code",
      "execution_count": null,
      "metadata": {
        "id": "mTy9LTqZ8wA7",
        "outputId": "8ff15377-210f-48bd-83f0-1f724ef944e4"
      },
      "outputs": [
        {
          "name": "stdout",
          "output_type": "stream",
          "text": [
            "i love python, i \u001b[43m\u001b[1mlove\u001b[0m regex\n"
          ]
        }
      ],
      "source": [
        "highlight_regex_matches(pattern, txt)"
      ]
    },
    {
      "cell_type": "markdown",
      "metadata": {
        "id": "dylQXQ_Y8wA8"
      },
      "source": [
        "Now, using **positive look ahead** mechanism, we consumed only 4 (index 17 to 21) characters are consumed for the match.\n",
        "\n",
        "Let us check out another example to find all words in given text which are followed by `.` or `,`."
      ]
    },
    {
      "cell_type": "code",
      "execution_count": null,
      "metadata": {
        "id": "hxaY5n_l8wA8"
      },
      "outputs": [],
      "source": [
        "txt = \"My favorite colors are red, green, and blue.\""
      ]
    },
    {
      "cell_type": "code",
      "execution_count": null,
      "metadata": {
        "id": "-nGtmHrn8wA8"
      },
      "outputs": [],
      "source": [
        "pattern = re.compile(\"\\w+(?=,|\\.)\")"
      ]
    },
    {
      "cell_type": "code",
      "execution_count": null,
      "metadata": {
        "id": "W8PZtzDz8wA8",
        "outputId": "e7f89e45-72c6-4d32-bde5-9298bd4e446e"
      },
      "outputs": [
        {
          "data": {
            "text/plain": [
              "['red', 'green', 'blue']"
            ]
          },
          "execution_count": 14,
          "metadata": {},
          "output_type": "execute_result"
        }
      ],
      "source": [
        "pattern.findall(txt)"
      ]
    },
    {
      "cell_type": "code",
      "execution_count": null,
      "metadata": {
        "id": "49nyZP7u8wA9",
        "outputId": "98a5e1de-2cd6-4a25-b95f-c73804e29e53"
      },
      "outputs": [
        {
          "name": "stdout",
          "output_type": "stream",
          "text": [
            "My favorite colors are \u001b[43m\u001b[1mred\u001b[0m, \u001b[43m\u001b[1mgreen\u001b[0m, and \u001b[43m\u001b[1mblue\u001b[0m.\n"
          ]
        }
      ],
      "source": [
        "highlight_regex_matches(pattern, txt)"
      ]
    },
    {
      "cell_type": "markdown",
      "metadata": {
        "id": "sUm5aR-m8wA9"
      },
      "source": [
        "## Negative look ahead\n",
        "\n",
        "- **Negative look ahead** will succeed if the passed non-consuming expression **does not match** against the forthcoming input.\n",
        "\n",
        "- The syntax is `A(?!B)` where `A` is the **actual expression** and `B` is the **non-consuming expression**. \n",
        "\n",
        "\n",
        "Let's assume that we want to find a match for `love` in the given text only if it is NOT followed by `regex`."
      ]
    },
    {
      "cell_type": "code",
      "execution_count": null,
      "metadata": {
        "id": "Gs5sPrz58wA-"
      },
      "outputs": [],
      "source": [
        "txt = \"i love python, i love regex\""
      ]
    },
    {
      "cell_type": "code",
      "execution_count": null,
      "metadata": {
        "id": "VRS_wgEO8wA-"
      },
      "outputs": [],
      "source": [
        "pattern = re.compile(\"love(?!\\sregex)\")"
      ]
    },
    {
      "cell_type": "code",
      "execution_count": null,
      "metadata": {
        "id": "dCWx8eUI8wA-",
        "outputId": "1c282539-e1fc-444b-a45d-a291ab000c5e"
      },
      "outputs": [
        {
          "name": "stdout",
          "output_type": "stream",
          "text": [
            "i \u001b[43m\u001b[1mlove\u001b[0m python, i love regex\n"
          ]
        }
      ],
      "source": [
        "highlight_regex_matches(pattern, txt)"
      ]
    },
    {
      "cell_type": "markdown",
      "metadata": {
        "id": "HEB0ueGt8wA_"
      },
      "source": []
    },
    {
      "cell_type": "markdown",
      "metadata": {
        "id": "FweuVabG8wwJ"
      },
      "source": [
        "# Look behind\n",
        "\n",
        "\n",
        "**Look behind** mechanism checks the match for a non-consuming expression **behind** a given pattern.\n",
        "\n",
        "\n",
        "## Positive look behind\n",
        "\n",
        "- **Positive look behind** will succeed if the passed non-consuming expression **does match** against the forthcoming input.\n",
        "\n",
        "- The syntax is `(?<=B)A` where `A` is the **actual expression** and `B` is the **non-consuming expression**. \n",
        "\n",
        "\n",
        "Let's check out an example to understand the concept. Let's assume that we want to find a match for `regex` in the given text only if it is succeeded by `love` or `hate`."
      ]
    },
    {
      "cell_type": "code",
      "execution_count": null,
      "metadata": {
        "id": "_QetWM3f8wwJ"
      },
      "outputs": [],
      "source": [
        "import re\n",
        "from utils import highlight_regex_matches"
      ]
    },
    {
      "cell_type": "code",
      "execution_count": null,
      "metadata": {
        "id": "g3r5qMpL8wwK"
      },
      "outputs": [],
      "source": [
        "txt = \"love regex or hate regex, can't ignore regex\""
      ]
    },
    {
      "cell_type": "code",
      "execution_count": null,
      "metadata": {
        "id": "MXV6oG_l8wwK"
      },
      "outputs": [],
      "source": [
        "pattern = re.compile(\"(?<=(love|hate)\\s)regex\")"
      ]
    },
    {
      "cell_type": "code",
      "execution_count": null,
      "metadata": {
        "id": "77SZoszz8wwL",
        "outputId": "7c9b66f6-e106-4146-84e8-ec77de5e73ba"
      },
      "outputs": [
        {
          "name": "stdout",
          "output_type": "stream",
          "text": [
            "love \u001b[43m\u001b[1mregex\u001b[0m or hate \u001b[43m\u001b[1mregex\u001b[0m, can't ignore regex\n"
          ]
        }
      ],
      "source": [
        "highlight_regex_matches(pattern, txt)"
      ]
    },
    {
      "cell_type": "markdown",
      "metadata": {
        "id": "1FiG51do8wwL"
      },
      "source": [
        "## Negative look behind\n",
        "\n",
        "- **Negative look behind** will succeed if the passed non-consuming expression **does not match** against the forthcoming input.\n",
        "\n",
        "- The syntax is `(?<!B)A` where `A` is the **actual expression** and `B` is the **non-consuming expression**. \n",
        "\n",
        "\n",
        "Let's assume that we want to find a match for `regex` in the given text if it is not followed by `love` or `hate`."
      ]
    },
    {
      "cell_type": "code",
      "execution_count": null,
      "metadata": {
        "id": "rDNZPT3s8wwM"
      },
      "outputs": [],
      "source": [
        "pattern = re.compile(\"(?<!(love|hate)\\s)regex\")"
      ]
    },
    {
      "cell_type": "code",
      "execution_count": null,
      "metadata": {
        "id": "mAgQMfAt8wwM",
        "outputId": "211472e2-8e9e-4e33-b1e3-53e9b3f9ce68"
      },
      "outputs": [
        {
          "name": "stdout",
          "output_type": "stream",
          "text": [
            "love regex or hate regex, can't ignore \u001b[43m\u001b[1mregex\u001b[0m\n"
          ]
        }
      ],
      "source": [
        "highlight_regex_matches(pattern, txt)"
      ]
    },
    {
      "cell_type": "markdown",
      "metadata": {
        "id": "aZXeT1gl8wwM"
      },
      "source": [
        "![](images/memes/meme34.jpg)"
      ]
    }
  ]
}